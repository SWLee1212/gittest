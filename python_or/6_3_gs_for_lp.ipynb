{
 "cells": [
  {
   "cell_type": "code",
   "execution_count": null,
   "metadata": {
    "collapsed": true
   },
   "outputs": [],
   "source": [
    "import matplotlib.pyplot as plt"
   ]
  },
  {
   "cell_type": "code",
   "execution_count": 41,
   "metadata": {},
   "outputs": [
    {
     "name": "stdout",
     "output_type": "stream",
     "text": [
      "6.4 3.2\n"
     ]
    },
    {
     "data": {
      "image/png": "[encoded data removed]",
      "text/plain": [
       "<matplotlib.figure.Figure at 0x6affcb0>"
      ]
     },
     "metadata": {},
     "output_type": "display_data"
    }
   ],
   "source": [
    "plt.plot([4,0],[0,14])\n",
    "plt.plot([12,0],[0,2])\n",
    "# plt.plot([4,0],[0,14],'ro',color='black')\n",
    "\n",
    "\n",
    "def plot_rhs(rhs):\n",
    "    \n",
    "    x1_0 = rhs/50\n",
    "    x2_0 = rhs/100\n",
    "    print(x1_0, x2_0)\n",
    "    plt.plot([x1_0,0],[0,x2_0])\n",
    "    \n",
    "# plot_rhs(10)    \n",
    "# plot_rhs(50)  \n",
    "# plot_rhs(200)  \n",
    "# plot_rhs(300)  \n",
    "plot_rhs(320) \n",
    "\n",
    "plt.plot([3.6],[1.4],\"ro\",color=\"black\")\n",
    "plt.show()"
   ]
  }
 ],
 "metadata": {
  "kernelspec": {
   "display_name": "Python 3",
   "language": "python",
   "name": "python3"
  },
  "language_info": {
   "codemirror_mode": {
    "name": "ipython",
    "version": 3
   },
   "file_extension": ".py",
   "mimetype": "text/x-python",
   "name": "python",
   "nbconvert_exporter": "python",
   "pygments_lexer": "ipython3",
   "version": "3.5.3"
  }
 },
 "nbformat": 4,
 "nbformat_minor": 2
}
