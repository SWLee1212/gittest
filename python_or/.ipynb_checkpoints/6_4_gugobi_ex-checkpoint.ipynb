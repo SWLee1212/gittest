{
 "cells": [
  {
   "cell_type": "code",
   "execution_count": 8,
   "metadata": {
    "collapsed": true
   },
   "outputs": [],
   "source": [
    "from gurobipy import *"
   ]
  },
  {
   "cell_type": "code",
   "execution_count": 14,
   "metadata": {},
   "outputs": [
    {
     "name": "stdout",
     "output_type": "stream",
     "text": [
      "Optimize a model with 2 rows, 2 columns and 4 nonzeros\n",
      "Coefficient statistics:\n",
      "  Matrix range     [2e+00, 1e+01]\n",
      "  Objective range  [5e+01, 1e+02]\n",
      "  Bounds range     [0e+00, 0e+00]\n",
      "  RHS range        [2e+01, 3e+01]\n",
      "Presolve time: 0.01s\n",
      "Presolved: 2 rows, 2 columns, 4 nonzeros\n",
      "\n",
      "Iteration    Objective       Primal Inf.    Dual Inf.      Time\n",
      "       0    0.0000000e+00   5.000000e+00   0.000000e+00      0s\n",
      "       2    3.2000000e+02   0.000000e+00   0.000000e+00      0s\n",
      "\n",
      "Solved in 2 iterations and 0.03 seconds\n",
      "Optimal objective  3.200000000e+02\n",
      "x1 3.5999999999999996\n",
      "x2 1.4000000000000001\n",
      "Obj: 320.0\n"
     ]
    }
   ],
   "source": [
    "try : \n",
    "    m = Model(\"Dorian Example\")   # LP 모델 생성\n",
    "    \n",
    "    # LP 변수 x1,x2 추가\n",
    "    x1 = m.addVar(vtype=GRB.CONTINUOUS, name=\"x1\")\n",
    "    x2 = m.addVar(vtype=GRB.CONTINUOUS, name=\"x2\")\n",
    "    \n",
    "    # 변수 업데이트\n",
    "    m.update()\n",
    "    \n",
    "    # 목적함수 추가\n",
    "    m.setObjective(50*x1 + 100*x2, GRB.MINIMIZE)\n",
    "    \n",
    "    # contraint 추가\n",
    "    m.addConstr(7*x1+2*x2>=28, \"c0\")\n",
    "    m.addConstr(2*x1+12*x2>=24, \"c1\")\n",
    "    \n",
    "    # run optimaize\n",
    "    m.optimize()\n",
    "    \n",
    "    for v in m.getVars():\n",
    "        print(v.varName, v.x)\n",
    "        \n",
    "    print('Obj:', m.objVal)    \n",
    "    \n",
    "except GurobiError as e:\n",
    "    print(e)\n",
    "    print(\"Error reported\")\n",
    "    "
   ]
  }
 ],
 "metadata": {
  "kernelspec": {
   "display_name": "Python 3",
   "language": "python",
   "name": "python3"
  },
  "language_info": {
   "codemirror_mode": {
    "name": "ipython",
    "version": 3
   },
   "file_extension": ".py",
   "mimetype": "text/x-python",
   "name": "python",
   "nbconvert_exporter": "python",
   "pygments_lexer": "ipython3",
   "version": "3.5.3"
  }
 },
 "nbformat": 4,
 "nbformat_minor": 2
}
