{
 "cells": [
  {
   "cell_type": "code",
   "execution_count": 7,
   "metadata": {},
   "outputs": [
    {
     "ename": "GurobiError",
     "evalue": "Inequality constraints not supported",
     "output_type": "error",
     "traceback": [
      "\u001b[1;31m---------------------------------------------------------------------------\u001b[0m",
      "\u001b[1;31mGurobiError\u001b[0m                               Traceback (most recent call last)",
      "\u001b[1;32m<ipython-input-7-d41b9112673f>\u001b[0m in \u001b[0;36m<module>\u001b[1;34m()\u001b[0m\n\u001b[0;32m     38\u001b[0m     \u001b[1;32mfor\u001b[0m \u001b[0mapt_s\u001b[0m \u001b[1;32min\u001b[0m \u001b[0mrange\u001b[0m\u001b[1;33m(\u001b[0m\u001b[0mNUMBER_OF_APT\u001b[0m\u001b[1;33m)\u001b[0m\u001b[1;33m:\u001b[0m\u001b[1;33m\u001b[0m\u001b[0m\n\u001b[0;32m     39\u001b[0m         m.addConstr(\n\u001b[1;32m---> 40\u001b[1;33m             \u001b[0mvariables\u001b[0m\u001b[1;33m[\u001b[0m\u001b[0mapt_s\u001b[0m\u001b[1;33m]\u001b[0m\u001b[1;33m[\u001b[0m\u001b[0mapt_d\u001b[0m\u001b[1;33m]\u001b[0m \u001b[1;33m!=\u001b[0m \u001b[0mvariables\u001b[0m\u001b[1;33m[\u001b[0m\u001b[0mapt_d\u001b[0m\u001b[1;33m]\u001b[0m\u001b[1;33m[\u001b[0m\u001b[0mapt_s\u001b[0m\u001b[1;33m]\u001b[0m\u001b[1;33m,\u001b[0m\u001b[1;33m\u001b[0m\u001b[0m\n\u001b[0m\u001b[0;32m     41\u001b[0m             \u001b[1;34m\"APT Source %s\"\u001b[0m \u001b[1;33m%\u001b[0m \u001b[1;33m(\u001b[0m\u001b[0mAPT\u001b[0m\u001b[1;33m[\u001b[0m\u001b[0mapt_d\u001b[0m\u001b[1;33m]\u001b[0m\u001b[1;33m)\u001b[0m\u001b[1;33m\u001b[0m\u001b[0m\n\u001b[0;32m     42\u001b[0m         )  \n",
      "\u001b[1;32mvar.pxi\u001b[0m in \u001b[0;36mgurobipy.Var.__ne__ (../../src/python/gurobipy.c:16786)\u001b[1;34m()\u001b[0m\n",
      "\u001b[1;31mGurobiError\u001b[0m: Inequality constraints not supported"
     ]
    }
   ],
   "source": [
    "from gurobipy import *\n",
    "\n",
    "m = Model(\"Assignment Problem\")\n",
    "\n",
    "NUMBER_OF_APT = 6\n",
    "\n",
    "cost_matrix = [\n",
    "    [100000,23,12,26, 19,15],[23,100000,18,16,25,24],[12,18,100000,17,11,28],\n",
    "    [26,16,17,100000,10,20], [19,25,11,10,100000,9], [15,24,28,20,9,100000]\n",
    "]\n",
    "APT = ['A','B','C','D','E','F']\n",
    "\n",
    "variables = [\n",
    "    [m.addVar(vtype = GRB.BINARY,\n",
    "              obj = cost_matrix[apt_s][apt_d],\n",
    "              name = \"(APT-%s, APT-%s)\" % (APT[apt_s], APT[apt_d]))            \n",
    "    for apt_d in range(NUMBER_OF_APT)]\n",
    "        for apt_s in range(NUMBER_OF_APT)\n",
    "]\n",
    "\n",
    "m.modelSense = GRB.MINIMIZE\n",
    "m.update()\n",
    "\n",
    "m.getObjective()  \n",
    "\n",
    "for apt_s in range(NUMBER_OF_APT):\n",
    "    m.addConstr(\n",
    "        quicksum( variables[apt_s][apt_d] for apt_d in range(NUMBER_OF_APT)) == 1,\n",
    "        \"APT Source %s\" % (APT[apt_s])\n",
    "    )\n",
    "for apt_d in range(NUMBER_OF_APT):\n",
    "    m.addConstr(\n",
    "        quicksum( variables[apt_s][apt_d] for apt_s in range(NUMBER_OF_APT)) == 1,\n",
    "        \"APT destination %s\" % (APT[apt_d])\n",
    "    )    \n",
    "    \n",
    "for apt_d in range(NUMBER_OF_APT):    \n",
    "    for apt_s in range(NUMBER_OF_APT):    \n",
    "        m.addConstr(\n",
    "            variables[apt_s][apt_d] != variables[apt_d][apt_s],\n",
    "            \"APT Source %s\" % (APT[apt_d])\n",
    "        )  \n",
    "    \n",
    "m.optimize()\n",
    "\n",
    "for v in m.getVars():\n",
    "    print(v.varName,v.x)\n",
    "    \n",
    "print(m.getObjective().getValue())        "
   ]
  }
 ],
 "metadata": {
  "kernelspec": {
   "display_name": "Python 3",
   "language": "python",
   "name": "python3"
  },
  "language_info": {
   "codemirror_mode": {
    "name": "ipython",
    "version": 3
   },
   "file_extension": ".py",
   "mimetype": "text/x-python",
   "name": "python",
   "nbconvert_exporter": "python",
   "pygments_lexer": "ipython3",
   "version": "3.5.3"
  }
 },
 "nbformat": 4,
 "nbformat_minor": 2
}
