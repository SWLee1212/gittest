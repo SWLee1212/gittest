{
 "cells": [
  {
   "cell_type": "code",
   "execution_count": 2,
   "metadata": {
    "collapsed": true
   },
   "outputs": [],
   "source": [
    "import numpy as np"
   ]
  },
  {
   "cell_type": "code",
   "execution_count": null,
   "metadata": {
    "collapsed": true
   },
   "outputs": [],
   "source": [
    "test_a = np.array([1,3,9],float)\n",
    "test_b = np.array([5,2,1],float)\n",
    "\n",
    "# 배열간 길이가 동일할 때 각 구성요소들 간의 크기 비교 또는 등호 비교 가능\n",
    "test_a > test_b"
   ]
  },
  {
   "cell_type": "code",
   "execution_count": null,
   "metadata": {
    "collapsed": true
   },
   "outputs": [],
   "source": [
    "test_a == test_b"
   ]
  },
  {
   "cell_type": "code",
   "execution_count": 11,
   "metadata": {},
   "outputs": [
    {
     "name": "stdout",
     "output_type": "stream",
     "text": [
      "[ True False False]\n"
     ]
    }
   ],
   "source": [
    "a = np.array([1,3,0],float)\n",
    "print(np.logical_and(a>0,a<3))  # and 조건의 condition"
   ]
  },
  {
   "cell_type": "code",
   "execution_count": null,
   "metadata": {
    "collapsed": true
   },
   "outputs": [],
   "source": [
    "b = np.array([True,False,True],bool)\n",
    "print(np.logical_not(b))  # logical 적으로 not(true->false, false-> true) 취함"
   ]
  },
  {
   "cell_type": "code",
   "execution_count": null,
   "metadata": {
    "collapsed": true
   },
   "outputs": [],
   "source": [
    "c = np.array([False, True, False], bool)\n",
    "print(np.logical_or(b,c)) # b,c 행렬 또는 vector의 구성요소 or 연산"
   ]
  },
  {
   "cell_type": "code",
   "execution_count": null,
   "metadata": {
    "collapsed": true
   },
   "outputs": [],
   "source": [
    "np.where(a > 0, 3, 2)  # 조건 a>0를 만족하면 True값(3) 그렇지 않으면, False(2)를 할당함"
   ]
  },
  {
   "cell_type": "code",
   "execution_count": null,
   "metadata": {
    "collapsed": true
   },
   "outputs": [],
   "source": [
    "a = np.array([1,np.NaN, np.Inf], float)\n",
    "np.isnan(a)   # Not a Number를 찾아라\n",
    "np.isfinite(a) # 한정된 수 를 찾아라, Nan, Inf가 아닌 것"
   ]
  },
  {
   "cell_type": "code",
   "execution_count": null,
   "metadata": {
    "collapsed": true
   },
   "outputs": [],
   "source": [
    "test_array = np.array([1,2,3,4,5,6,], float)\n",
    "test_array>3"
   ]
  },
  {
   "cell_type": "code",
   "execution_count": null,
   "metadata": {
    "collapsed": true
   },
   "outputs": [],
   "source": [
    "test_array[test_array > 3]  # test_array의 element 중 >3 인게 true인 것만 뽑아서 array를 만듬"
   ]
  },
  {
   "cell_type": "code",
   "execution_count": null,
   "metadata": {
    "collapsed": true
   },
   "outputs": [],
   "source": [
    "condition = test_array < 3\n",
    "test_array[condition]"
   ]
  },
  {
   "cell_type": "code",
   "execution_count": null,
   "metadata": {
    "collapsed": true
   },
   "outputs": [],
   "source": [
    "# fancy index를 위해서는 반드시 int 값으로 입력해야 함\n",
    "a = np.array([2,4,6,8],float)\n",
    "b = np.array([0,1,3,2,1,], int)  # 반드시 int 값을 할당해야 하면, 해당 array의 index 값에 접근 가능\n",
    "a[b]\n",
    "a.take(b)"
   ]
  },
  {
   "cell_type": "code",
   "execution_count": 22,
   "metadata": {},
   "outputs": [
    {
     "data": {
      "text/plain": [
       "array([ 1.,  4.,  6.,  6.,  1.])"
      ]
     },
     "execution_count": 22,
     "metadata": {},
     "output_type": "execute_result"
    }
   ],
   "source": [
    "a = np.array([[1,4],[9,6]], float)\n",
    "b = np.array([0,0,1,1,0], int)\n",
    "c = np.array([0,1,1,1,0], int)\n",
    "a[b,c]   # [[,].[,]] 위치에 접근 가능\n"
   ]
  }
 ],
 "metadata": {
  "kernelspec": {
   "display_name": "Python 3",
   "language": "python",
   "name": "python3"
  },
  "language_info": {
   "codemirror_mode": {
    "name": "ipython",
    "version": 3
   },
   "file_extension": ".py",
   "mimetype": "text/x-python",
   "name": "python",
   "nbconvert_exporter": "python",
   "pygments_lexer": "ipython3",
   "version": "3.5.3"
  }
 },
 "nbformat": 4,
 "nbformat_minor": 2
}
