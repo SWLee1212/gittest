{
 "cells": [
  {
   "cell_type": "code",
   "execution_count": 5,
   "metadata": {},
   "outputs": [
    {
     "name": "stdout",
     "output_type": "stream",
     "text": [
      "Optimize a model with 7 rows, 12 columns and 24 nonzeros\n",
      "Coefficient statistics:\n",
      "  Matrix range     [1e+00, 1e+00]\n",
      "  Objective range  [5e+00, 2e+01]\n",
      "  Bounds range     [0e+00, 0e+00]\n",
      "  RHS range        [2e+01, 5e+01]\n",
      "Presolve time: 0.01s\n",
      "Presolved: 7 rows, 12 columns, 24 nonzeros\n",
      "\n",
      "Iteration    Objective       Primal Inf.    Dual Inf.      Time\n",
      "       0    0.0000000e+00   1.250000e+02   0.000000e+00      0s\n",
      "       7    1.0200000e+03   0.000000e+00   0.000000e+00      0s\n",
      "\n",
      "Solved in 7 iterations and 0.03 seconds\n",
      "Optimal objective  1.020000000e+03\n",
      "(plant-1, city-1) 0.0\n",
      "(plant-1, city-2) 10.0\n",
      "(plant-1, city-3) 25.0\n",
      "(plant-1, city-4) 0.0\n",
      "(plant-2, city-1) 45.0\n",
      "(plant-2, city-2) 0.0\n",
      "(plant-2, city-3) 5.0\n",
      "(plant-2, city-4) 0.0\n",
      "(plant-3, city-1) 0.0\n",
      "(plant-3, city-2) 10.0\n",
      "(plant-3, city-3) 0.0\n",
      "(plant-3, city-4) 30.0\n",
      "1020.0\n"
     ]
    }
   ],
   "source": [
    "from gurobipy import *\n",
    "\n",
    "m = Model(\"Transportatioin Problem\")\n",
    "\n",
    "NUMBER_OF_PLANT = 3\n",
    "NUMBER_OF_CITY = 4\n",
    "\n",
    "cost_matrix = [\n",
    "    [8,6,10,9],[9,12,13,7],[14,9,16,5]\n",
    "    ]\n",
    "plant_total_pwr = [35,50,40]\n",
    "city_demand_pwr = [45,20,30,30]\n",
    "\n",
    "variables = [\n",
    "    [m.addVar(vtype = GRB.CONTINUOUS,\n",
    "              obj = cost_matrix[plant][city],\n",
    "              name = \"(plant-%d, city-%d)\" % (plant+1, city+1))            \n",
    "    for city in range(NUMBER_OF_CITY)]\n",
    "        for plant in range(NUMBER_OF_PLANT)\n",
    "]\n",
    "\n",
    "m.modelSense = GRB.MINIMIZE\n",
    "m.update()\n",
    "\n",
    "m.getObjective()  \n",
    "\n",
    "for plant in range(NUMBER_OF_PLANT):\n",
    "    m.addConstr(\n",
    "        quicksum( variables[plant][city] for city in range(NUMBER_OF_CITY)) <= plant_total_pwr[plant],\n",
    "        \"Plant %d Supply Power\" % (plant+1)\n",
    "    )\n",
    "for city in range(NUMBER_OF_CITY):\n",
    "    m.addConstr(\n",
    "        quicksum( variables[plant][city] for plant in range(NUMBER_OF_PLANT)) >= city_demand_pwr[city],\n",
    "        \"City %d Demand Power\" % (city+1)\n",
    "    )  \n",
    "    \n",
    "    \n",
    "m.optimize()\n",
    "\n",
    "for v in m.getVars():\n",
    "    print(v.varName,v.x)\n",
    "    \n",
    "print(m.getObjective().getValue())            "
   ]
  }
 ],
 "metadata": {
  "kernelspec": {
   "display_name": "Python 3",
   "language": "python",
   "name": "python3"
  },
  "language_info": {
   "codemirror_mode": {
    "name": "ipython",
    "version": 3
   },
   "file_extension": ".py",
   "mimetype": "text/x-python",
   "name": "python",
   "nbconvert_exporter": "python",
   "pygments_lexer": "ipython3",
   "version": "3.5.3"
  }
 },
 "nbformat": 4,
 "nbformat_minor": 2
}
