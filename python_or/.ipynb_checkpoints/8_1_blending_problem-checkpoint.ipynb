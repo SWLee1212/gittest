{
 "cells": [
  {
   "cell_type": "code",
   "execution_count": 8,
   "metadata": {
    "collapsed": true
   },
   "outputs": [],
   "source": [
    "from gurobipy import *\n",
    "\n",
    "gas_sales = [70,60,50]\n",
    "crude_purchases = [45,35,25]\n",
    "\n",
    "gas_constrations = [3000,2000,1000]\n",
    "crude_constrations = 5000\n",
    "\n",
    "crude_octan_rating = [12,6,8]\n",
    "\n",
    "octane_level_constraints = [\n",
    "    [2, -4, -2],\n",
    "    [0, 4, -2],\n",
    "    [6,0,2]    \n",
    "]\n",
    "\n",
    "x_variables_names = [[\"x\"+str(i)+str(j) for i in range(3)] for j in range(3)]\n",
    "ad_variables_names = [\"a\"+str(i) for i in range(3)]\n",
    "\n",
    "# print(x_variables_names)\n",
    "# print(ad_variables_names)"
   ]
  },
  {
   "cell_type": "code",
   "execution_count": null,
   "metadata": {
    "collapsed": true
   },
   "outputs": [],
   "source": [
    "m = Model(\"Blending Problems\")\n",
    "\n",
    "x_variables = []\n",
    "ad_variables = []\n",
    "\n",
    "for i in range(3):\n",
    "    x_variables.append([])\n",
    "    for j in range(3):\n",
    "        x_variables[i].append(\n",
    "            m.addVar(\n",
    "            vtype = GRB.CONTINUOUS,\n",
    "            obj = gas_sales[j]-crude_purchases[i]-4, \n",
    "            name=\"(%s)\" % (x_variables_names[i][j]))\n",
    "        )\n",
    "        \n",
    "for j in range(3):\n",
    "    ad_variables.append(\n",
    "        m.addVar(\n",
    "        vtype = GRB.CONTINUOUS,\n",
    "        obj = -1,\n",
    "        name=\"(%s)\"% (ad_variables_names[j]))\n",
    "    )\n",
    "    \n",
    "m.modelSense = GRB.MAXIMIZE\n",
    "m.update()\n",
    "\n",
    "m.getObjective()"
   ]
  },
  {
   "cell_type": "code",
   "execution_count": null,
   "metadata": {
    "collapsed": true
   },
   "outputs": [],
   "source": [
    "#Gas Constraints\n",
    "for gas in range(3):\n",
    "    constraions = [x_variables[crude][gas] for crude in range(3)]\n",
    "    constraions.append(-10 * ad_variables[gas])\n",
    "    m.addConstr(\n",
    "        quicksum(constraions\n",
    "                ) == gas_constrations[gas],\n",
    "        \"Gas %d requirement\" % gas)\n",
    "    \n",
    "m.update()\n",
    "m.getConstrs()"
   ]
  },
  {
   "cell_type": "code",
   "execution_count": null,
   "metadata": {
    "collapsed": true
   },
   "outputs": [],
   "source": [
    "for crude in range(3):\n",
    "    constraions = [x_variables[crude][gas] for gas in range(3)]\n",
    "    m.addConstr(\n",
    "        quicksum(constraions\n",
    "                ) <= crude_constrations,\n",
    "        \"Crude Oil %d requirement\" % crude\n",
    "    )\n",
    "    \n",
    "m.update()\n",
    "m.getConstrs()    "
   ]
  },
  {
   "cell_type": "code",
   "execution_count": null,
   "metadata": {
    "collapsed": true
   },
   "outputs": [],
   "source": [
    "# Constraint for refinery capacity limit\n",
    "constraions = [x_variables[crude][gas] for crude in range(3) for gas in range(3)]\n",
    "m.addConstr(\n",
    "    quicksum(constraions) == 14000, \"reginery capacity limit\"\n",
    ")\n",
    "\n",
    "m.update()\n",
    "m.getConstrs()"
   ]
  },
  {
   "cell_type": "code",
   "execution_count": null,
   "metadata": {
    "collapsed": true
   },
   "outputs": [],
   "source": [
    "sulfur_content = [0.005, 0.02, 0.03]\n",
    "sulfur_at_most = [0.01,0.02,0.01]\n",
    "\n",
    "for gas in range(3):\n",
    "    constrains_lhs = [sulfur_content[crude]*x_variables[crude][gas] for crude in range(3)]\n",
    "    \n",
    "    constrains_rhs = [sulfur_at_most[crude]*x_variables[crude][gas] for crude in range(3)]\n",
    "    \n",
    "    m.addConstr(\n",
    "        quicksum(constrains_lhs) >= quicksum(constrains_rhs),\n",
    "        \"Sulfur content in Gas %d requirment\" % gas\n",
    "    )\n",
    "    \n",
    "m.update()\n",
    "m.getConstrs()\n",
    "m.optimize()"
   ]
  },
  {
   "cell_type": "code",
   "execution_count": 21,
   "metadata": {
    "scrolled": true
   },
   "outputs": [
    {
     "name": "stdout",
     "output_type": "stream",
     "text": [
      "(x00) 4000.0\n",
      "(x10) 0.0\n",
      "(x20) 0.0\n",
      "(x01) 2000.0\n",
      "(x11) 2000.0\n",
      "(x21) 1000.0\n",
      "(x02) 5000.0\n",
      "(x12) 0.0\n",
      "(x22) 0.0\n",
      "(a0) 800.0\n",
      "(a1) 0.0\n",
      "(a2) 0.0\n",
      "403200.0\n"
     ]
    }
   ],
   "source": [
    "for v in m.getVars():\n",
    "    print(v.varName,v.x)\n",
    "    \n",
    "print(m.getObjective().getValue())    "
   ]
  }
 ],
 "metadata": {
  "kernelspec": {
   "display_name": "Python 3",
   "language": "python",
   "name": "python3"
  },
  "language_info": {
   "codemirror_mode": {
    "name": "ipython",
    "version": 3
   },
   "file_extension": ".py",
   "mimetype": "text/x-python",
   "name": "python",
   "nbconvert_exporter": "python",
   "pygments_lexer": "ipython3",
   "version": "3.5.3"
  }
 },
 "nbformat": 4,
 "nbformat_minor": 2
}
