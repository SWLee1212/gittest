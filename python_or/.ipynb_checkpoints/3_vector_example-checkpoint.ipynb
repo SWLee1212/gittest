{
 "cells": [
  {
   "cell_type": "code",
   "execution_count": 2,
   "metadata": {},
   "outputs": [
    {
     "data": {
      "text/plain": [
       "[1, 2, 10]"
      ]
     },
     "execution_count": 2,
     "metadata": {},
     "output_type": "execute_result"
    }
   ],
   "source": [
    "vector_a = [1,2,10] # 일반적인 vector 표현과 같음\n",
    "vector_a"
   ]
  },
  {
   "cell_type": "code",
   "execution_count": 3,
   "metadata": {},
   "outputs": [
    {
     "data": {
      "text/plain": [
       "(1, 2, 10)"
      ]
     },
     "execution_count": 3,
     "metadata": {},
     "output_type": "execute_result"
    }
   ],
   "source": [
    "vector_b = (1,2,10) #튜플로 표현시 중복 데이터는 안들어감\n",
    "vector_b"
   ]
  },
  {
   "cell_type": "code",
   "execution_count": 4,
   "metadata": {},
   "outputs": [
    {
     "data": {
      "text/plain": [
       "{'x': 1, 'y': 2, 'z': 10}"
      ]
     },
     "execution_count": 4,
     "metadata": {},
     "output_type": "execute_result"
    }
   ],
   "source": [
    "vector_c = {'x':1, 'y':2,'z':10}    # dict 형을 전처리 수행하기 편함\n",
    "vector_c"
   ]
  },
  {
   "cell_type": "code",
   "execution_count": null,
   "metadata": {
    "collapsed": true
   },
   "outputs": [],
   "source": [
    "# 벡터의 덧셈\n",
    "u = [2,2]\n",
    "v = [2,2]\n",
    "z = [3,5]\n",
    "\n",
    "# result = []\n",
    "# for i in range(len(u)):\n",
    "#     result.append(u[i]+v[i]+z[i])\n",
    "# result    \n",
    "for t in zip(u,v,z):\n",
    "    print(t)\n",
    "result = [t for t in zip(u,v,z)]  # zip을 각 리스트 element를 뽑아서 tuble 형태로 반환    \n",
    "result\n",
    "result = [sum(t) for t in zip(u,v,z)]  # zip을 각 리스트 element를 뽑아서 tuble 형태로 반환\n",
    "result\n",
    "\n",
    "    "
   ]
  },
  {
   "cell_type": "code",
   "execution_count": 20,
   "metadata": {},
   "outputs": [
    {
     "name": "stdout",
     "output_type": "stream",
     "text": [
      "[10, 14, 18]\n"
     ]
    }
   ],
   "source": [
    "u = [1,2,3,]\n",
    "v = [4,5,6,]\n",
    "alpha = 2\n",
    "\n",
    "result = [alpha*sum(t) for t in zip(u,v)]\n",
    "print(result)"
   ]
  }
 ],
 "metadata": {
  "kernelspec": {
   "display_name": "Python 3",
   "language": "python",
   "name": "python3"
  },
  "language_info": {
   "codemirror_mode": {
    "name": "ipython",
    "version": 3
   },
   "file_extension": ".py",
   "mimetype": "text/x-python",
   "name": "python",
   "nbconvert_exporter": "python",
   "pygments_lexer": "ipython3",
   "version": "3.5.3"
  }
 },
 "nbformat": 4,
 "nbformat_minor": 2
}
