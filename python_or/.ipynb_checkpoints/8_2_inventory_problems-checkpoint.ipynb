{
 "cells": [
  {
   "cell_type": "code",
   "execution_count": 15,
   "metadata": {
    "collapsed": true
   },
   "outputs": [],
   "source": [
    "from gurobipy import *"
   ]
  },
  {
   "cell_type": "code",
   "execution_count": 18,
   "metadata": {},
   "outputs": [
    {
     "name": "stdout",
     "output_type": "stream",
     "text": [
      "Optimize a model with 8 rows, 12 columns and 19 nonzeros\n",
      "Coefficient statistics:\n",
      "  Matrix range     [1e+00, 1e+00]\n",
      "  Objective range  [2e+01, 5e+02]\n",
      "  Bounds range     [0e+00, 0e+00]\n",
      "  RHS range        [4e+01, 8e+01]\n",
      "Presolve removed 8 rows and 12 columns\n",
      "Presolve time: 0.05s\n",
      "Presolve: All rows and columns removed\n",
      "Iteration    Objective       Primal Inf.    Dual Inf.      Time\n",
      "       0    1.0500000e+04   0.000000e+00   0.000000e+00      0s\n",
      "\n",
      "Solved in 0 iterations and 0.06 seconds\n",
      "Optimal objective  1.050000000e+04\n",
      "(x-0) <gurobi.Var (x-0) (value 0.0)>\n",
      "(x-1) <gurobi.Var (x-1) (value 0.0)>\n",
      "(x-2) <gurobi.Var (x-2) (value 0.0)>\n",
      "(x-3) <gurobi.Var (x-3) (value 0.0)>\n",
      "(y-0) <gurobi.Var (y-0) (value 0.0)>\n",
      "(y-1) <gurobi.Var (y-1) (value 0.0)>\n",
      "(y-2) <gurobi.Var (y-2) (value 0.0)>\n",
      "(y-3) <gurobi.Var (y-3) (value 0.0)>\n",
      "(i-0) <gurobi.Var (i-0) (value 210.0)>\n",
      "(i-1) <gurobi.Var (i-1) (value 170.0)>\n",
      "(i-2) <gurobi.Var (i-2) (value 110.0)>\n",
      "(i-3) <gurobi.Var (i-3) (value 35.0)>\n",
      "10500.0\n"
     ]
    }
   ],
   "source": [
    "time_period = [\"Q1\", \"Q2\", \"Q3\", \"Q4\"]\n",
    "demand = [40, 60, 75, 25]\n",
    "\n",
    "m = Model(\"sailco_inventory\")\n",
    "\n",
    "variables = []\n",
    "for i in range(len(time_period)):\n",
    "    variables.append([])\n",
    "    variables[0].append(\n",
    "        m.addVar(vtype = GRB.CONTINUOUS, obj = 400, name=\"(x-%d)\" % (i))\n",
    "    )\n",
    "    \n",
    "for i in range(len(time_period)):\n",
    "    variables.append([])\n",
    "    variables[1].append(\n",
    "        m.addVar(vtype = GRB.CONTINUOUS, obj = 450, name=\"(y-%d)\" % (i))\n",
    "    )    \n",
    "for i in range(len(time_period)):\n",
    "    variables.append([])\n",
    "    variables[2].append(\n",
    "        m.addVar(vtype = GRB.CONTINUOUS, obj = 20, name=\"(i-%d)\" % (i))\n",
    "    )        \n",
    "variables.append([])\n",
    "variables[2].append(10)\n",
    "m.modelSense = GRB.MINIMIZE\n",
    "m.update()\n",
    "m.getObjective()\n",
    "\n",
    "for time in range(len(time_period)):\n",
    "    m.addConstr(variables[0][time] <= 40, \"Supply regulations %s\" % variables[0][time])\n",
    "    \n",
    "\n",
    "for time in range(len(time_period)):\n",
    "    m.addConstr(variables[2][time] - variables[2][time+1] + variables[0][time] + variables[1][time] - demand[time] == 0,\n",
    "                \"Inventory regulation %s\" % variables[0][time])\n",
    "    \n",
    "m.optimize()    \n",
    "for v in m.getVars():\n",
    "    print(v.varName, v)\n",
    "    \n",
    "print(m.getObjective().getValue() )    "
   ]
  }
 ],
 "metadata": {
  "kernelspec": {
   "display_name": "Python 3",
   "language": "python",
   "name": "python3"
  },
  "language_info": {
   "codemirror_mode": {
    "name": "ipython",
    "version": 3
   },
   "file_extension": ".py",
   "mimetype": "text/x-python",
   "name": "python",
   "nbconvert_exporter": "python",
   "pygments_lexer": "ipython3",
   "version": "3.5.3"
  }
 },
 "nbformat": 4,
 "nbformat_minor": 2
}
