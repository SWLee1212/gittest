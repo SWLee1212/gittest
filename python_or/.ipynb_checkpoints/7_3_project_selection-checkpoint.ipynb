{
 "cells": [
  {
   "cell_type": "code",
   "execution_count": 2,
   "metadata": {},
   "outputs": [
    {
     "name": "stdout",
     "output_type": "stream",
     "text": [
      "Optimize a model with 7 rows, 5 columns and 15 nonzeros\n",
      "Coefficient statistics:\n",
      "  Matrix range     [1e+00, 5e+01]\n",
      "  Objective range  [1e+01, 4e+01]\n",
      "  Bounds range     [0e+00, 0e+00]\n",
      "  RHS range        [1e+00, 4e+01]\n",
      "Presolve removed 5 rows and 0 columns\n",
      "Presolve time: 0.03s\n",
      "Presolved: 2 rows, 5 columns, 10 nonzeros\n",
      "\n",
      "Iteration    Objective       Primal Inf.    Dual Inf.      Time\n",
      "       0    7.8106665e+01   8.092299e-01   0.000000e+00      0s\n",
      "       2    5.7449017e+01   0.000000e+00   0.000000e+00      0s\n",
      "\n",
      "Solved in 2 iterations and 0.04 seconds\n",
      "Optimal objective  5.744901720e+01\n",
      "(1) 1.0\n",
      "(2) 0.20085995085995084\n",
      "(3) 1.0\n",
      "(4) 1.0\n",
      "(5) 0.2880835380835381\n",
      "57.449017199017206\n"
     ]
    }
   ],
   "source": [
    "# from- Operations Research:Applications and Algorithms 4th Eidition, Wayne L.Winstone\n",
    "\n",
    "from gurobipy import *\n",
    "\n",
    "\n",
    "m = Model(\"Project Selection Problem\")   # LP 모델 생성\n",
    "\n",
    "\n",
    "investments = [\"1\", \"2\", \"3\",\"4\", \"5\"]\n",
    "investments_table = [\n",
    "    [11,53,5,5,29],\n",
    "    [3,6,5,1,34]    \n",
    "]\n",
    "\n",
    "limit_cashflow = [40,20]\n",
    "investments_NPV = [13,16,16,14,39]\n",
    "\n",
    "# LP 변수 추가 및 목적함수 설정\n",
    "investments_assignment = [] # decision variable 리스트\n",
    "for i in range(len(investments)):\n",
    "    investments_assignment.append(\n",
    "        m.addVar(obj=investments_NPV[i], vtype=GRB.CONTINUOUS, name=\"(%s)\" % (investments[i])))\n",
    "    \n",
    "\n",
    "m.modelSense = GRB.MAXIMIZE\n",
    "m.update()\n",
    "\n",
    "#add constraint \n",
    "for l in range(len(limit_cashflow)):\n",
    "    m.addConstr(\n",
    "        quicksum(investments_table[l][c] * investments_assignment[c] for c in range(len(investments_assignment))) <= limit_cashflow[l],\n",
    "            \"day required %s\" % investments[l])\n",
    "    #quicksum은 gurobi 제공 함수로 quicksum() 괄호 안의 값을 모두 더함\n",
    "\n",
    "#add constraint \n",
    "for i in range(len(investments)):    \n",
    "    m.addConstr(\n",
    "        investments_assignment[i] <= 1, \"variables %s \" % investments[i])\n",
    "    \n",
    "m.optimize()\n",
    "\n",
    "for v in m.getVars():\n",
    "    print(v.varName, v.x)\n",
    "\n",
    "print(m.getObjective().getValue())    \n"
   ]
  }
 ],
 "metadata": {
  "kernelspec": {
   "display_name": "Python 3",
   "language": "python",
   "name": "python3"
  },
  "language_info": {
   "codemirror_mode": {
    "name": "ipython",
    "version": 3
   },
   "file_extension": ".py",
   "mimetype": "text/x-python",
   "name": "python",
   "nbconvert_exporter": "python",
   "pygments_lexer": "ipython3",
   "version": "3.5.3"
  }
 },
 "nbformat": 4,
 "nbformat_minor": 2
}
