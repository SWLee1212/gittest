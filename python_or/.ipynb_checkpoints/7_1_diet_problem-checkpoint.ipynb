{
 "cells": [
  {
   "cell_type": "code",
   "execution_count": 4,
   "metadata": {},
   "outputs": [
    {
     "name": "stdout",
     "output_type": "stream",
     "text": [
      "Optimize a model with 4 rows, 4 columns and 14 nonzeros\n",
      "Coefficient statistics:\n",
      "  Matrix range     [1e+00, 5e+02]\n",
      "  Objective range  [2e+01, 8e+01]\n",
      "  Bounds range     [0e+00, 0e+00]\n",
      "  RHS range        [5e+00, 5e+02]\n",
      "Presolve time: 0.02s\n",
      "Presolved: 4 rows, 4 columns, 14 nonzeros\n",
      "\n",
      "Iteration    Objective       Primal Inf.    Dual Inf.      Time\n",
      "       0    0.0000000e+00   6.226563e+00   0.000000e+00      0s\n",
      "       2    9.0000000e+01   0.000000e+00   0.000000e+00      0s\n",
      "\n",
      "Solved in 2 iterations and 0.04 seconds\n",
      "Optimal objective  9.000000000e+01\n",
      "x1 0.0\n",
      "x2 3.0\n",
      "x3 1.0\n",
      "x4 0.0\n",
      "Obj: 90.0\n"
     ]
    }
   ],
   "source": [
    "# from- Operations Research:Applications and Algorithms 4th Eidition, Wayne L.Winstone\n",
    "\n",
    "from gurobipy import *\n",
    "\n",
    "try : \n",
    "    m = Model(\"Diet Proble\")   # LP 모델 생성\n",
    "    \n",
    "    # LP 변수 x1,x2,x3,x4 추가\n",
    "    x1 = m.addVar(name=\"brownie\")\n",
    "    x2 = m.addVar(name=\"icecream\")\n",
    "    x3 = m.addVar(name=\"cola\")\n",
    "    x4 = m.addVar(name=\"pineaaple\")    \n",
    "#     x1 = m.addVar(vtype=GRB.CONTINUOUS, name=\"x1\")\n",
    "#     x2 = m.addVar(vtype=GRB.CONTINUOUS, name=\"x2\")\n",
    "#     x3 = m.addVar(vtype=GRB.CONTINUOUS, name=\"x3\")\n",
    "#     x4 = m.addVar(vtype=GRB.CONTINUOUS, name=\"x4\")\n",
    "    \n",
    "    # 변수 업데이트\n",
    "    m.update()\n",
    "    \n",
    "    # 목적함수 추가\n",
    "    m.setObjective(50*x1+20*x2+30*x3+80*x4, GRB.MINIMIZE)\n",
    "    \n",
    "    # contraint 추가\n",
    "    m.addConstr(3*x1 + 2*x2 >= 6, \"c0\")\n",
    "    m.addConstr(2*x1 + 2*x2 + 4*x3 + 4*x4 >= 10, \"c1\")    \n",
    "    m.addConstr(2*x1 + 4*x2 + x3 + 4*x4 >= 5, \"c2\")\n",
    "    m.addConstr(400*x1 + 200*x2 + 150*x3 + 500*x4 >=500, \"c3\")    \n",
    "    \n",
    "    \n",
    "    # run optimaize\n",
    "    m.optimize()\n",
    "    \n",
    "    for v in m.getVars():\n",
    "        print(v.varName, v.x)\n",
    "        \n",
    "    print('Obj:', m.objVal)    \n",
    "    \n",
    "except GurobiError as e:\n",
    "    print(e)\n",
    "    print(\"Error reported\")\n",
    "    "
   ]
  }
 ],
 "metadata": {
  "kernelspec": {
   "display_name": "Python 3",
   "language": "python",
   "name": "python3"
  },
  "language_info": {
   "codemirror_mode": {
    "name": "ipython",
    "version": 3
   },
   "file_extension": ".py",
   "mimetype": "text/x-python",
   "name": "python",
   "nbconvert_exporter": "python",
   "pygments_lexer": "ipython3",
   "version": "3.5.3"
  }
 },
 "nbformat": 4,
 "nbformat_minor": 2
}
