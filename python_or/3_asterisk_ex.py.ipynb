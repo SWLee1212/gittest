{
 "cells": [
  {
   "cell_type": "code",
   "execution_count": 23,
   "metadata": {},
   "outputs": [
    {
     "name": "stdout",
     "output_type": "stream",
     "text": [
      "6\n",
      "8\n",
      "[0, 0, 0, 0, 0, 0, 0, 0, 0, 0]\n",
      "(0, 0, 0, 0, 0)\n",
      "1 scalar product of vector : [1, 2, 3]\n",
      "2 scalar product of vector : [2, 4, 6]\n",
      "3 scalar product of vector : [3, 6, 9]\n",
      "{1: 'ming', 2: 'alice', 3: 'Nobody', 4: 'Nobody'}\n",
      "{1: 'ming', 2: 'alice', 3: 'mike', 4: 'Nobody'}\n",
      "{1: 'ming', 2: 'alice', 3: 'mike', 4: 'jin'}\n",
      "('ming', 'alice', 'mike', 'jin')\n",
      "('ming', 'alice')\n",
      "{'a': 'mike', 'b': 'jin'}\n"
     ]
    },
    {
     "data": {
      "text/plain": [
       "[2, 3, 5, 7, 11, 13]"
      ]
     },
     "execution_count": 23,
     "metadata": {},
     "output_type": "execute_result"
    }
   ],
   "source": [
    "# 파이썬에서 *(asterisk)의 사용 예\n",
    "# 1. 수학 연산자\n",
    "# 곱셉\n",
    "print(2*3)\n",
    "# 제곱\n",
    "print(2**3)\n",
    "\n",
    "# 2. 리스트 커네이너 타입의 데이터 반복 확장 하고자 할때\n",
    "zeros_list = [0]*10\n",
    "print(zeros_list)\n",
    "\n",
    "# tuple의 경우 (0,)를 주의 하자\n",
    "zeros_tuple = (0,) * 5\n",
    "print(zeros_tuple)\n",
    "\n",
    "\n",
    "vector_list = [[1,2,3]]    \n",
    "\n",
    "for i, vector in enumerate(vector_list * 3):\n",
    "    print(\"{0} scalar product of vector : {1}\".format((i+1), [(i+1)*e for e in vector]))\n",
    "\n",
    "\n",
    "\n"
   ]
  },
  {
   "cell_type": "code",
   "execution_count": null,
   "metadata": {
    "collapsed": true
   },
   "outputs": [],
   "source": [
    "# 3. variadic parameters를 사용하고자 할 때\n",
    "# positional arugment와 keyword argument 예\n",
    "def save_ranking(first, second, third=None, fourth=None):\n",
    "    rank = {}\n",
    "    rank[1], rank[2] = first, second\n",
    "    rank[3] = third if third is not None else 'Nobody'\n",
    "    rank[4] = fourth if fourth is not None else 'Nobody'\n",
    "    print(rank)\n",
    "#positional arguments 2 전달\n",
    "save_ranking('ming','alice')\n",
    "#positional arguments 2개, keyword argument 1개 전달\n",
    "save_ranking('ming','alice', third='mike')\n",
    "#positional arguments 3개, keyword argument 1개 전달\n",
    "save_ranking('ming','alice','mike',fourth='jin')\n",
    "\n",
    "# 임의의 개수의 positional argument를 받을 때\n",
    "def save_rank(*args):\n",
    "    print(args)\n",
    "save_rank('ming','alice','mike','jin')    \n",
    "\n",
    "# 임의의 개수의 positional argument와 keyword argument를 받을 때\n",
    "def save_rank2(*args,  **kwargs):\n",
    "    print(args)#args는 list 변수로 전달\n",
    "    print(kwargs)#kwargs는 dict 변수로 전달\n",
    "save_rank2('ming','alice',a='mike',b='jin')"
   ]
  },
  {
   "cell_type": "code",
   "execution_count": 29,
   "metadata": {},
   "outputs": [
    {
     "name": "stdout",
     "output_type": "stream",
     "text": [
      "2 3 5 7 11 13\n",
      "[2, 3, 5, 7, 11, 13]\n"
     ]
    }
   ],
   "source": [
    "# 4. 컨테이너 타입의 데이터를 unpacking 할 때\n",
    "from functools import reduce\n",
    "primes = [2,3,5,7,11,13]\n",
    "\n",
    "def product(*numbers) : \n",
    "    p = reduce(lambda x,y:x*y,numbers)\n",
    "    return p\n",
    "product(*primes)\n",
    "product(primes)\n",
    "\n",
    "print(*primes)\n",
    "print(primes)"
   ]
  },
  {
   "cell_type": "code",
   "execution_count": 40,
   "metadata": {},
   "outputs": [
    {
     "ename": "TypeError",
     "evalue": "'Content-Length' is an invalid keyword argument for this function",
     "output_type": "error",
     "traceback": [
      "\u001b[1;31m---------------------------------------------------------------------------\u001b[0m",
      "\u001b[1;31mTypeError\u001b[0m                                 Traceback (most recent call last)",
      "\u001b[1;32m<ipython-input-40-cfc5b4c6ade1>\u001b[0m in \u001b[0;36m<module>\u001b[1;34m()\u001b[0m\n\u001b[0;32m     16\u001b[0m         \u001b[1;32mraise\u001b[0m \u001b[0mValueError\u001b[0m\u001b[1;33m(\u001b[0m\u001b[1;34m'You must use SSL for http communication'\u001b[0m\u001b[1;33m)\u001b[0m\u001b[1;33m\u001b[0m\u001b[0m\n\u001b[0;32m     17\u001b[0m \u001b[1;33m\u001b[0m\u001b[0m\n\u001b[1;32m---> 18\u001b[1;33m \u001b[0mpre_process\u001b[0m\u001b[1;33m(\u001b[0m\u001b[1;33m**\u001b[0m\u001b[0mheaders\u001b[0m\u001b[1;33m)\u001b[0m\u001b[1;33m\u001b[0m\u001b[0m\n\u001b[0m",
      "\u001b[1;32m<ipython-input-40-cfc5b4c6ade1>\u001b[0m in \u001b[0;36mpre_process\u001b[1;34m(**headers)\u001b[0m\n\u001b[0;32m      7\u001b[0m \u001b[1;31m#print(**headers)\u001b[0m\u001b[1;33m\u001b[0m\u001b[1;33m\u001b[0m\u001b[0m\n\u001b[0;32m      8\u001b[0m \u001b[1;32mdef\u001b[0m \u001b[0mpre_process\u001b[0m\u001b[1;33m(\u001b[0m\u001b[1;33m**\u001b[0m\u001b[0mheaders\u001b[0m\u001b[1;33m)\u001b[0m\u001b[1;33m:\u001b[0m\u001b[1;33m\u001b[0m\u001b[0m\n\u001b[1;32m----> 9\u001b[1;33m     \u001b[0mprint\u001b[0m\u001b[1;33m(\u001b[0m\u001b[1;33m**\u001b[0m\u001b[0mheaders\u001b[0m\u001b[1;33m)\u001b[0m\u001b[1;33m\u001b[0m\u001b[0m\n\u001b[0m\u001b[0;32m     10\u001b[0m     \u001b[0mcontent_length\u001b[0m \u001b[1;33m=\u001b[0m \u001b[0mheaders\u001b[0m\u001b[1;33m[\u001b[0m\u001b[1;34m'Content-Length'\u001b[0m\u001b[1;33m]\u001b[0m\u001b[1;33m\u001b[0m\u001b[0m\n\u001b[0;32m     11\u001b[0m \u001b[1;33m\u001b[0m\u001b[0m\n",
      "\u001b[1;31mTypeError\u001b[0m: 'Content-Length' is an invalid keyword argument for this function"
     ]
    }
   ],
   "source": [
    "# dict type의 컨테이너를 unpacking 하려면 ** 해야 함\n",
    "headers = {\n",
    "    'Accept' : 'text/plain',\n",
    "    'Content-Length': 348,\n",
    "    'Host': 'http://mingrammer.com'\n",
    "}\n",
    "#print(**headers)\n",
    "def pre_process(**headers):\n",
    "#     print(**headers)\n",
    "    content_length = headers['Content-Length']\n",
    "    \n",
    "    print('conent length: ', content_length)\n",
    "    \n",
    "    host = headers['Host']\n",
    "    if 'http' not in host:\n",
    "        raise ValueError('You must use SSL for http communication')\n",
    "        \n",
    "pre_process(**headers)        "
   ]
  },
  {
   "cell_type": "code",
   "execution_count": 37,
   "metadata": {},
   "outputs": [
    {
     "name": "stdout",
     "output_type": "stream",
     "text": [
      "[1, 2, 3, 4, 5, 6]\n",
      "[1, 2, 3, 4, 5] 6\n",
      "1 [2, 3, 4, 5, 6]\n",
      "1 [2, 3, 4, 5] 6\n"
     ]
    }
   ],
   "source": [
    "numbers = [1,2,3,4,5,6]\n",
    "\n",
    "*a, = numbers\n",
    "print(a)\n",
    "*a,b = numbers\n",
    "print(a,b)\n",
    "a,*b = numbers\n",
    "print(a,b)\n",
    "a,*b,c = numbers\n",
    "print(a,b,c)\n"
   ]
  },
  {
   "cell_type": "code",
   "execution_count": 45,
   "metadata": {},
   "outputs": [
    {
     "name": "stdout",
     "output_type": "stream",
     "text": [
      "([[1, 2], [3, 4]],)\n",
      "([1, 2], [3, 4])\n"
     ]
    }
   ],
   "source": [
    "def test(*vars):#함수 인자 수를 가변적으로 설정할 수 있음\n",
    "    print(vars)\n",
    "test([[1,2],[3,4]])    \n",
    "test(*[[1,2],[3,4]])    #unpacking 하여 함수 인자로 전달"
   ]
  },
  {
   "cell_type": "code",
   "execution_count": 49,
   "metadata": {},
   "outputs": [
    {
     "name": "stdout",
     "output_type": "stream",
     "text": [
      "[1, 2]\n",
      "[3, 4]\n",
      "(1, 3)\n",
      "(2, 4)\n"
     ]
    }
   ],
   "source": [
    "def test1(*args):\n",
    "    for vector in args:\n",
    "        print(vector)\n",
    "    \n",
    "    for ele in zip(*args):\n",
    "        print(ele)\n",
    "test1([1,2],[3,4])    \n",
    "#test([1,2],[3,4])    "
   ]
  }
 ],
 "metadata": {
  "kernelspec": {
   "display_name": "Python 3",
   "language": "python",
   "name": "python3"
  },
  "language_info": {
   "codemirror_mode": {
    "name": "ipython",
    "version": 3
   },
   "file_extension": ".py",
   "mimetype": "text/x-python",
   "name": "python",
   "nbconvert_exporter": "python",
   "pygments_lexer": "ipython3",
   "version": "3.6.1"
  }
 },
 "nbformat": 4,
 "nbformat_minor": 2
}
