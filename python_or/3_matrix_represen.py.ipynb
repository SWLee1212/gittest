{
 "cells": [
  {
   "cell_type": "code",
   "execution_count": 3,
   "metadata": {},
   "outputs": [
    {
     "name": "stdout",
     "output_type": "stream",
     "text": [
      "(3, 4)\n",
      "(6, 5)\n",
      "(5, 6)\n",
      "(8, 7)\n"
     ]
    },
    {
     "data": {
      "text/plain": [
       "[[7, 11], [11, 15]]"
      ]
     },
     "execution_count": 3,
     "metadata": {},
     "output_type": "execute_result"
    }
   ],
   "source": [
    "# matrix add\n",
    "matrix_a = [[3,6],[5,8]]\n",
    "matrix_b = [[4,5],[6,7]]\n",
    "\n",
    "for t in zip(matrix_a,matrix_b):\n",
    "    for row in zip(*t):\n",
    "        print(row)\n",
    "\n",
    "result = [[sum(row) for row in zip(*t)] for t in zip(matrix_a,matrix_b)]\n",
    "result"
   ]
  },
  {
   "cell_type": "code",
   "execution_count": 5,
   "metadata": {},
   "outputs": [
    {
     "data": {
      "text/plain": [
       "[[12, 24], [16, 20]]"
      ]
     },
     "execution_count": 5,
     "metadata": {},
     "output_type": "execute_result"
    }
   ],
   "source": [
    "# matrix multiply by scala\n",
    "matrix_a = [[3,6],[4,5]]\n",
    "alpha = 4\n",
    "result = [[alpha*element for element in t] for t in matrix_a]\n",
    "result"
   ]
  },
  {
   "cell_type": "code",
   "execution_count": 12,
   "metadata": {},
   "outputs": [
    {
     "name": "stdout",
     "output_type": "stream",
     "text": [
      "(1, 4)\n",
      "(2, 5)\n",
      "(3, 6)\n"
     ]
    },
    {
     "data": {
      "text/plain": [
       "[[1, 4], [2, 5], [3, 6]]"
      ]
     },
     "execution_count": 12,
     "metadata": {},
     "output_type": "execute_result"
    }
   ],
   "source": [
    "# transpose \n",
    "matrix_a = [[1,2,3],[4,5,6]]\n",
    "for row in zip(*matrix_a):\n",
    "    print(row)\n",
    "result =[[element for element in row] for row in zip(*matrix_a)]    \n",
    "result"
   ]
  },
  {
   "cell_type": "code",
   "execution_count": 30,
   "metadata": {},
   "outputs": [
    {
     "name": "stdout",
     "output_type": "stream",
     "text": [
      "5\n",
      "8\n",
      "5\n",
      "6\n"
     ]
    },
    {
     "data": {
      "text/plain": [
       "[[5, 8], [5, 6]]"
      ]
     },
     "execution_count": 30,
     "metadata": {},
     "output_type": "execute_result"
    }
   ],
   "source": [
    "matrix_a = [[1,1,2],[2,1,1]]\n",
    "matrix_b = [[1,1],[2,1],[1,3]]\n",
    "\n",
    "for row_a in matrix_a:\n",
    "    for col_b in zip(*matrix_b):\n",
    "        print(sum(a*b for a,b in zip(row_a,col_b)))\n",
    "    \n",
    "# #             #sum(a*b)\n",
    "# #             print(a,b)\n",
    "result = [[sum(a*b for a,b in zip(row_a,col_b)) for col_b in zip(*matrix_b)]for row_a in matrix_a]\n",
    "result"
   ]
  }
 ],
 "metadata": {
  "kernelspec": {
   "display_name": "Python 3",
   "language": "python",
   "name": "python3"
  },
  "language_info": {
   "codemirror_mode": {
    "name": "ipython",
    "version": 3
   },
   "file_extension": ".py",
   "mimetype": "text/x-python",
   "name": "python",
   "nbconvert_exporter": "python",
   "pygments_lexer": "ipython3",
   "version": "3.6.1"
  }
 },
 "nbformat": 4,
 "nbformat_minor": 2
}
