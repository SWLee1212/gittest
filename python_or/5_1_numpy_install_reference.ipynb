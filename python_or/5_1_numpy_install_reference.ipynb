{
 "cells": [
  {
   "cell_type": "code",
   "execution_count": null,
   "metadata": {
    "collapsed": true
   },
   "outputs": [],
   "source": [
    "# activate my_or\n",
    "# conda install numpy\n",
    "\n",
    "# References\n",
    "# - cs231 : http://cs231n.github.io/python-numpy-tutorial/#numpy\n",
    "# - https://docs.scipy.org/doc/numpy-dev/user/quickstart.html\n",
    "# - 데이터 사인언스스쿨 https://goo.gl/3hsjbS\n",
    "# - Numpy https://goo.gl/7Nwjvv(w)\n",
    "# - 파이썬 라이브러리를 활용한 데이터 분석\n"
   ]
  }
 ],
 "metadata": {
  "kernelspec": {
   "display_name": "Python 3",
   "language": "python",
   "name": "python3"
  },
  "language_info": {
   "codemirror_mode": {
    "name": "ipython",
    "version": 3
   },
   "file_extension": ".py",
   "mimetype": "text/x-python",
   "name": "python",
   "nbconvert_exporter": "python",
   "pygments_lexer": "ipython3",
   "version": "3.5.3"
  }
 },
 "nbformat": 4,
 "nbformat_minor": 2
}
