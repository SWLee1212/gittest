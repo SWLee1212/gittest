{
 "cells": [
  {
   "cell_type": "code",
   "execution_count": 5,
   "metadata": {},
   "outputs": [
    {
     "name": "stdout",
     "output_type": "stream",
     "text": [
      "[[3, 6], [4, 5]]\n",
      "[[5, 8], [6, 7]]\n",
      "[[8, 14], [10, 12]]\n"
     ]
    }
   ],
   "source": [
    "class Matrix(object):\n",
    "    def __init__(self, matrix_list=None):\n",
    "        if matrix_list is not None:\n",
    "            self.matrix_list = matrix_list\n",
    "            \n",
    "    def __add__(self,other):\n",
    "        if isinstance(other, Matrix):\n",
    "            result = [[sum(row) for row in zip(*t)] \\\n",
    "                for t in zip(self.matrix_list,other.matrix_list)]\n",
    "            return result\n",
    "        else:\n",
    "            raise TypeError\n",
    "            \n",
    "    def __str__(self):\n",
    "            return str(self.matrix_list)\n",
    "        \n",
    "    \n",
    "matrix_list_a = [[3,6],[4,5]]        \n",
    "mat_x = Matrix(matrix_list_a)\n",
    "print(mat_x)\n",
    "\n",
    "matrix_list_b =[[5,8],[6,7]]\n",
    "mat_y = Matrix(matrix_list_b)\n",
    "print(mat_y)\n",
    "\n",
    "print(mat_x + mat_y)"
   ]
  }
 ],
 "metadata": {
  "kernelspec": {
   "display_name": "Python 3",
   "language": "python",
   "name": "python3"
  },
  "language_info": {
   "codemirror_mode": {
    "name": "ipython",
    "version": 3
   },
   "file_extension": ".py",
   "mimetype": "text/x-python",
   "name": "python",
   "nbconvert_exporter": "python",
   "pygments_lexer": "ipython3",
   "version": "3.6.1"
  }
 },
 "nbformat": 4,
 "nbformat_minor": 2
}
