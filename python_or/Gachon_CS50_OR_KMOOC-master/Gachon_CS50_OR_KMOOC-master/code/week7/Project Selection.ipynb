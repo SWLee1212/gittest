{
 "cells": [
  {
   "cell_type": "markdown",
   "metadata": {},
   "source": [
    "### Project Selection Problem\n",
    "##### FROM - Operations Research: Applications and Algorithms 4th Edition, p80, Wayne L. Winston \n",
    "\n",
    "Star Oil Company is considering five different investment opportunities. The cash outflows and net present values (in millions of dollars) are given in Table. Star Oil has $40 million available for investment now (time 0); it estimates that one year from now (time 1) $20 million will be available for investment. Star Oil may purchase any fraction of each investment. In this case, the cash outflows and NPV are adjusted accordingly. For example, if Star Oil purchases one-fifth of investment 3, then a cash outflow of 𝟏/𝟓 (𝟓)=$𝟏 million would be required at time 0, and a cash outflow of 𝟏/𝟓 (𝟓)=$𝟏  million would be required at time 1. The one-fifth share of investment 3 would yield an NPV of 𝟏/𝟓 (𝟏𝟔)=$𝟑.𝟐 million. Star Oil wants to maximize the NPV that can be obtained by investing in investments 1–5. Formulate an LP that will help achieve this goal. Assume that any funds left over at time 0 cannot be used at time 1."
   ]
  },
  {
   "cell_type": "markdown",
   "metadata": {},
   "source": [
    "|                     |   1 |   2|   3|  4 |  5 | \n",
    "|:--------------------|:---|:--|:--|:--|:--|\n",
    "| Time 0 Cash outflow | 11   | 53  |5   | 5   | 29  | \n",
    "| Time 1 Cash outflow |  3  |   6|  5 |   1|   34| \n",
    "| NPV                 |  13  |  16 | 16  | 14  | 39  | \n",
    "\n"
   ]
  },
  {
   "cell_type": "code",
   "execution_count": 1,
   "metadata": {
    "collapsed": false
   },
   "outputs": [
    {
     "name": "stdout",
     "output_type": "stream",
     "text": [
      "Optimize a model with 7 rows, 5 columns and 15 nonzeros\n",
      "Coefficient statistics:\n",
      "  Matrix range     [1e+00, 5e+01]\n",
      "  Objective range  [1e+01, 4e+01]\n",
      "  Bounds range     [0e+00, 0e+00]\n",
      "  RHS range        [1e+00, 4e+01]\n",
      "Presolve removed 5 rows and 0 columns\n",
      "Presolve time: 0.01s\n",
      "Presolved: 2 rows, 5 columns, 10 nonzeros\n",
      "\n",
      "Iteration    Objective       Primal Inf.    Dual Inf.      Time\n",
      "       0    7.8106665e+01   8.092299e-01   0.000000e+00      0s\n",
      "       2    5.7449017e+01   0.000000e+00   0.000000e+00      0s\n",
      "\n",
      "Solved in 2 iterations and 0.03 seconds\n",
      "Optimal objective  5.744901720e+01\n",
      "(i1) 1.0\n",
      "(i2) 0.20085995085995084\n",
      "(i3) 1.0\n",
      "(i4) 1.0\n",
      "(i5) 0.2880835380835381\n",
      "57.449017199017206\n"
     ]
    }
   ],
   "source": [
    "from gurobipy import *\n",
    "\n",
    "investments_targets = [\"i1\", \"i2\", \"i3\", \"i4\", \"i5\"]\n",
    "expected_npv = [13,16,16,14,39]\n",
    "\n",
    "cash_outflow = [\n",
    "                [11,53,5,5,29],\n",
    "                [3,6,5,1,34]\n",
    "            ]\n",
    "\n",
    "cash_budget = [40,20]\n",
    "\n",
    "# Model\n",
    "m = Model(\"project_selection\")\n",
    "\n",
    "invesestment_assignment = []\n",
    "for i in range(len(investments_targets)):\n",
    "    invesestment_assignment.append(\n",
    "        m.addVar(\n",
    "            vtype=GRB.CONTINUOUS,\n",
    "            obj = expected_npv[i],\n",
    "            name=\"(%s)\" % (investments_targets[i])))\n",
    "\n",
    "m.modelSense = GRB.MAXIMIZE\n",
    "m.update()\n",
    "\n",
    "for time in range(len(cash_outflow)):\n",
    "    m.addConstr(\n",
    "        quicksum(cash_outflow[time][c] * invesestment_assignment[c]\n",
    "                 for c in range(len(investments_targets))) <= cash_budget[time], \n",
    "        \"day requirment %s\" % investments_targets[time])\n",
    "\n",
    "for index in range(len(investments_targets)):\n",
    "    m.addConstr(\n",
    "        invesestment_assignment[index] <= 1, \"varaible %s\" % investments_targets[index])\n",
    "\n",
    "    \n",
    "\n",
    "m.optimize()\n",
    "\n",
    "for v in m.getVars():\n",
    "    print (v.varName, v.x)\n",
    "    \n",
    "print (m.getObjective().getValue())"
   ]
  },
  {
   "cell_type": "code",
   "execution_count": null,
   "metadata": {
    "collapsed": true
   },
   "outputs": [],
   "source": [
    ""
   ]
  }
 ],
 "metadata": {
  "kernelspec": {
   "display_name": "Python 3",
   "language": "python",
   "name": "python3"
  },
  "language_info": {
   "codemirror_mode": {
    "name": "ipython",
    "version": 3.0
   },
   "file_extension": ".py",
   "mimetype": "text/x-python",
   "name": "python",
   "nbconvert_exporter": "python",
   "pygments_lexer": "ipython3",
   "version": "3.5.2"
  }
 },
 "nbformat": 4,
 "nbformat_minor": 0
}