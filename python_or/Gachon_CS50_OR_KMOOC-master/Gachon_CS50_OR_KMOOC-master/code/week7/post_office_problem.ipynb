{
 "cells": [
  {
   "cell_type": "markdown",
   "metadata": {},
   "source": [
    "### Work Scheduling Problem: Post Office Problem\n",
    "##### FROM - Operations Research: Applications and Algorithms 4th Edition, p72, Wayne L. Winston \n",
    "\n",
    "A post office requires different numbers of full-time employees on different days of the week. The number of full-time employees required on each day is given in Table 4. Union rules state that each full-time employee must work five consecutive days and then receive two days off. For example, an employee who works Monday to Friday must be off on Saturday and Sunday. The post office wants to meet its daily requirements using only fulltime employees. Formulate an LP that the post office can use to minimize the number of full-time employees who must be hired."
   ]
  },
  {
   "cell_type": "markdown",
   "metadata": {},
   "source": [
    "\n",
    "\n",
    "| Day  | Number of Full-Time Emplyees Requiremed |\n",
    "|:-----|:----------------------------------------|\n",
    "| Mon  |                      17                   |\n",
    "| Tue  |                      13                   |\n",
    "| Wed  |                        15                 |\n",
    "| Thur |                          19               |\n",
    "| Fri  |                            14             |\n",
    "| Sat  |                              16           |\n",
    "| Sun  |                                11         |\n",
    "\n"
   ]
  },
  {
   "cell_type": "code",
   "execution_count": 4,
   "metadata": {
    "collapsed": false
   },
   "outputs": [
    {
     "name": "stdout",
     "output_type": "stream",
     "text": [
      "Optimize a model with 7 rows, 7 columns and 35 nonzeros\n",
      "Variable types: 0 continuous, 7 integer (0 binary)\n",
      "Coefficient statistics:\n",
      "  Matrix range     [1e+00, 1e+00]\n",
      "  Objective range  [1e+00, 1e+00]\n",
      "  Bounds range     [0e+00, 0e+00]\n",
      "  RHS range        [1e+01, 2e+01]\n",
      "Found heuristic solution: objective 35\n",
      "Presolve time: 0.00s\n",
      "Presolved: 7 rows, 7 columns, 35 nonzeros\n",
      "Variable types: 0 continuous, 7 integer (0 binary)\n",
      "\n",
      "Root relaxation: objective 2.233333e+01, 5 iterations, 0.00 seconds\n",
      "\n",
      "    Nodes    |    Current Node    |     Objective Bounds      |     Work\n",
      " Expl Unexpl |  Obj  Depth IntInf | Incumbent    BestBd   Gap | It/Node Time\n",
      "\n",
      "     0     0   22.33333    0    4   35.00000   22.33333  36.2%     -    0s\n",
      "H    0     0                      23.0000000   22.33333  2.90%     -    0s\n",
      "\n",
      "Explored 0 nodes (5 simplex iterations) in 0.02 seconds\n",
      "Thread count was 8 (of 8 available processors)\n",
      "\n",
      "Solution count 2: 23 35 \n",
      "Pool objective bound 23\n",
      "\n",
      "Optimal solution found (tolerance 1.00e-04)\n",
      "Best objective 2.300000000000e+01, best bound 2.300000000000e+01, gap 0.0000%\n",
      "(Mon) 7.0\n",
      "(Tue) 5.0\n",
      "(Wed) 1.0\n",
      "(Thur) 7.0\n",
      "(Fri) -0.0\n",
      "(Sat) 3.0\n",
      "(Sun) -0.0\n",
      "23.0\n"
     ]
    }
   ],
   "source": [
    "from gurobipy import *\n",
    "\n",
    "days = [\"Mon\", \"Tue\", \"Wed\", \"Thur\", \"Fri\", \"Sat\", \"Sun\"]\n",
    "\n",
    "\n",
    "assignment_FTE = [\n",
    "                [1,0,0,1,1,1,1],\n",
    "                [1,1,0,0,1,1,1],\n",
    "                [1,1,1,0,0,1,1],\n",
    "                [1,1,1,1,0,0,1],\n",
    "                [1,1,1,1,1,0,0],\n",
    "                [0,1,1,1,1,1,0],\n",
    "                [0,0,1,1,1,1,1]\n",
    "            ]\n",
    "\n",
    "requried_FTE = [17,13,15,19,14,16,11]\n",
    "\n",
    "# Model\n",
    "m = Model(\"post_office_problem\")\n",
    "\n",
    "day_assignment = []\n",
    "for l in range(len(days)):\n",
    "    day_assignment.append(\n",
    "        m.addVar(obj = 1, vtype=GRB.INTEGER, name=\"(%s)\" % (days[l])))\n",
    "\n",
    "m.modelSense = GRB.MINIMIZE\n",
    "m.update()\n",
    "\n",
    "\n",
    "for l in range(len(days)):\n",
    "    m.addConstr(\n",
    "        quicksum(assignment_FTE[l][c] * day_assignment[c]for c in range(len(days))) >= requried_FTE[l], \n",
    "        \"day requirment %s\" % days[l])\n",
    "\n",
    "\n",
    "\n",
    "m.optimize()\n",
    "\n",
    "for v in m.getVars():\n",
    "    print (v.varName, v.x)\n",
    "    \n",
    "\n",
    "print (m.getObjective().getValue())"
   ]
  },
  {
   "cell_type": "code",
   "execution_count": null,
   "metadata": {
    "collapsed": true
   },
   "outputs": [],
   "source": [
    ""
   ]
  }
 ],
 "metadata": {
  "kernelspec": {
   "display_name": "Python 3",
   "language": "python",
   "name": "python3"
  }
 },
 "nbformat": 4,
 "nbformat_minor": 0
}