{
 "cells": [
  {
   "cell_type": "markdown",
   "metadata": {},
   "source": [
    "### Diet Problem\n",
    "\n",
    "My diet requires that  all the food I eat come from one of the four “basic food groups” (chocolate cake, ice cream, soda, and cheesecake). At present, the following four foods are available for consumption: brownies, chocolate ice cream, cola, and pineapple cheesecake. Each brownie costs 50 cents, each scoop of chocolate ice cream costs 20 cents, each bottle of cola costs 30 cents, and each piece of pineapple cheesecake costs 80 cents. Each day, I must ingest at least 500 calories, 6 oz of chocolate, 10 oz of sugar, and 8 oz of fat. The nutritional content per unit of each food is shown in the following table. Formulate a linear programming model that can be used to satisfy my daily nutritional requirements at minimum costs.     "
   ]
  },
  {
   "cell_type": "code",
   "execution_count": null,
   "metadata": {
    "collapsed": true
   },
   "outputs": [],
   "source": [
    "from gurobipy import *\n",
    "\n",
    "try:\n",
    "\n",
    "    # Create a new model\n",
    "    m = Model(\"diet_problem\")\n",
    "\n",
    "    # Create variables\n",
    "    x1 = m.addVar(name=\"brownie\")\n",
    "    x2 = m.addVar(name=\"icecream\")\n",
    "    x3 = m.addVar(name=\"cola\")\n",
    "    x4 = m.addVar(name=\"pineapple\")\n",
    "    \n",
    "    # Integrate new variables\n",
    "    m.update()\n",
    "\n",
    "    # Set objective\n",
    "    m.setObjective(50 * x1 + 20 * x2 + 30 * x3 + 80 * x4, GRB.MINIMIZE)\n",
    "    \n",
    "    # Add constraint\n",
    "    m.addConstr(400 * x1 + 200 * x2 + 150 * x3 + 500 * x4 >= 500, \"c0\")\n",
    "    m.addConstr(3 * x1 + 2 * x2 >= 6, \"c1\")\n",
    "    m.addConstr(2 *x1 + 2 * x2 + 4 *x3 + 4 * x4 >= 10, \"c2\")\n",
    "    m.addConstr(2 * x1 + 4 *x2 + x3 + 5 *x4 >= 8, \"c3\")\n",
    "\n",
    "    m.optimize()\n",
    "    \n",
    "    \n",
    "    for v in m.getVars():\n",
    "        print (v.varName, v.x)\n",
    "\n",
    "    print ('Obj:', m.objVal)\n",
    "except GurobiError:\n",
    "    print ('Error reported')"
   ]
  }
 ],
 "metadata": {
  "kernelspec": {
   "display_name": "Python 3",
   "language": "python",
   "name": "python3"
  },
  "language_info": {
   "codemirror_mode": {
    "name": "ipython",
    "version": 3.0
   },
   "file_extension": ".py",
   "mimetype": "text/x-python",
   "name": "python",
   "nbconvert_exporter": "python",
   "pygments_lexer": "ipython3",
   "version": "3.5.2"
  }
 },
 "nbformat": 4,
 "nbformat_minor": 0
}