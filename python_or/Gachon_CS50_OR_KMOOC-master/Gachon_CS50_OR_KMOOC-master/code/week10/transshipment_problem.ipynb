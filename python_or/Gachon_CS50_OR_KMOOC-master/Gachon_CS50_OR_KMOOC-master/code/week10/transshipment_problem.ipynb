{
 "cells": [
  {
   "cell_type": "markdown",
   "metadata": {},
   "source": [
    "### Transshipment problem\n",
    "\n",
    "Widgetco manufactures widgets at two factories, one in Memphis and one in Denver. The Memphis factory can produce as many as 150 widgets per day, and the Denver factory can produce as many as 200 widgets per day. Widgets are shipped by air to customers in Los Angeles and Boston. The customers in each city require 130 widgets per day. Because of the deregulation of airfares, Widgetco believes that it may be cheaper to first fly some widgets to New York or Chicago and then fly them to their final destinations. The costs of flying a widget are shown in Table 58. Widgetco wants to minimize the total cost of shipping the required widgets to its customers."
   ]
  },
  {
   "cell_type": "markdown",
   "metadata": {},
   "source": [
    "<img src=./transshipment_table.png>"
   ]
  },
  {
   "cell_type": "code",
   "execution_count": 5,
   "metadata": {
    "collapsed": false
   },
   "outputs": [],
   "source": [
    "from gurobipy import *\n",
    "\n",
    "m = Model(\"Transshipment Prolem\")\n",
    "\n",
    "NUMBER_OF_SOURCES =  4\n",
    "NUMBER_OF_TARGETS = 5\n",
    "\n",
    "cost_matrix = [[8, 13, 25, 28, 0], [15,12,26,25, 0], [0, 6, 16, 17, 0], [6, 0 ,14, 16, 0]]\n",
    "\n",
    "supply = [150,200, 350,350]\n",
    "demand = [350,350,130,130,90]\n",
    "\n",
    "variables = [ \n",
    "    [m.addVar(vtype=GRB.CONTINUOUS, \n",
    "              obj = cost_matrix[source][target], \n",
    "              name=\"(node-%d%d)\" % (target+1, source+1))\n",
    "     for target in range(NUMBER_OF_TARGETS) ] \n",
    "        for source in range(NUMBER_OF_SOURCES)\n",
    "    ]\n",
    "            \n",
    "\n",
    "m.modelSense = GRB.MINIMIZE\n",
    "m.update()"
   ]
  },
  {
   "cell_type": "code",
   "execution_count": 7,
   "metadata": {
    "collapsed": false
   },
   "outputs": [
    {
     "name": "stdout",
     "output_type": "stream",
     "text": [
      "Optimize a model with 9 rows, 20 columns and 40 nonzeros\n",
      "Coefficient statistics:\n",
      "  Matrix range     [1e+00, 1e+00]\n",
      "  Objective range  [6e+00, 3e+01]\n",
      "  Bounds range     [0e+00, 0e+00]\n",
      "  RHS range        [9e+01, 4e+02]\n",
      "Presolve time: 0.02s\n",
      "Presolved: 9 rows, 20 columns, 40 nonzeros\n",
      "\n",
      "Iteration    Objective       Primal Inf.    Dual Inf.      Time\n",
      "       0    3.9000000e+03   6.300000e+02   0.000000e+00      0s\n",
      "       3    6.3700000e+03   0.000000e+00   0.000000e+00      2s\n",
      "\n",
      "Solved in 3 iterations and 1.53 seconds\n",
      "Optimal objective  6.370000000e+03\n",
      "(node-11) 130.0\n",
      "(node-21) 0.0\n",
      "(node-31) 0.0\n",
      "(node-41) 0.0\n",
      "(node-51) 20.0\n",
      "(node-12) 0.0\n",
      "(node-22) 0.0\n",
      "(node-32) 0.0\n",
      "(node-42) 130.0\n",
      "(node-52) 70.0\n",
      "(node-13) 220.0\n",
      "(node-23) 0.0\n",
      "(node-33) 130.0\n",
      "(node-43) 0.0\n",
      "(node-53) 0.0\n",
      "(node-14) 0.0\n",
      "(node-24) 350.0\n",
      "(node-34) 0.0\n",
      "(node-44) 0.0\n",
      "(node-54) 0.0\n",
      "6370.0\n"
     ]
    }
   ],
   "source": [
    "for source in range(NUMBER_OF_SOURCES):\n",
    "    m.addConstr(\n",
    "        quicksum(variables[source][target] for target in range(NUMBER_OF_TARGETS)) == supply[source], \n",
    "        \"supply requirment for source - %d\" % (source + 1))\n",
    "\n",
    "for target in range(NUMBER_OF_TARGETS):\n",
    "    m.addConstr(\n",
    "        quicksum(variables[source][target] for source in range(NUMBER_OF_SOURCES)) == demand[target], \n",
    "        \"demand requirment for target - %d\" % (target + 1))\n",
    "\n",
    "m.optimize()\n",
    "\n",
    "for v in m.getVars():\n",
    "    print (v.varName, v.x)\n",
    "    \n",
    "\n",
    "print (m.getObjective().getValue())"
   ]
  }
 ],
 "metadata": {
  "kernelspec": {
   "display_name": "Python 3",
   "language": "python",
   "name": "python3"
  },
  "language_info": {
   "codemirror_mode": {
    "name": "ipython",
    "version": 3
   },
   "file_extension": ".py",
   "mimetype": "text/x-python",
   "name": "python",
   "nbconvert_exporter": "python",
   "pygments_lexer": "ipython3",
   "version": "3.5.2"
  }
 },
 "nbformat": 4,
 "nbformat_minor": 2
}
