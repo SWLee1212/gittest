{
 "cells": [
  {
   "cell_type": "markdown",
   "metadata": {},
   "source": [
    "### Assignment problem\n",
    " \n",
    "Machineco has four machines and four jobs to be completed. Each machine must be assigned to complete one job. The time required to set up each machine for completing each job is shown in Table 43. Machineco wants to minimize the total setup time needed to complete the four jobs. Use linear programming to solve this problem.\n"
   ]
  },
  {
   "cell_type": "markdown",
   "metadata": {},
   "source": [
    "|           | Job1 | Job2 | Job3 | Job4 |\n",
    "|:----------|:-----|:-----|:-----|:-----|\n",
    "| Machine 1 |  14    |    5  | 8     |  7    |\n",
    "| Machine 2 |   2   |     12 | 6     |   5   |\n",
    "| Machine 3 |   7   |      8|  3    |    9  |\n",
    "| Machine 4 |   2   |      4|  6    |     10 |"
   ]
  },
  {
   "cell_type": "code",
   "execution_count": 10,
   "metadata": {
    "collapsed": false
   },
   "outputs": [],
   "source": [
    "from gurobipy import *\n",
    "\n",
    "m = Model(\"Assignment Prolem\")\n",
    "\n",
    "NUMBER_OF_MACHINES = 4\n",
    "NUMBER_OF_JOBS = 4\n",
    "\n",
    "\n",
    "cost_matrix = [\n",
    "    [14,5,8,7],[2,12,6,5], [7,8,3,9], [2,4,6,10]\n",
    "]\n",
    "\n",
    "\n",
    "variables = [ \n",
    "    [m.addVar(vtype=GRB.BINARY, \n",
    "              obj = cost_matrix[machine][job], \n",
    "              name=\"(Machine - %d , Job %d)\" % (machine+1, job+1))\n",
    "     for job in range(NUMBER_OF_JOBS) ] \n",
    "        for machine in range(NUMBER_OF_MACHINES)\n",
    "    ]"
   ]
  },
  {
   "cell_type": "code",
   "execution_count": 11,
   "metadata": {
    "collapsed": false
   },
   "outputs": [
    {
     "data": {
      "text/plain": [
       "[[<gurobi.Var *Awaiting Model Update*>,\n",
       "  <gurobi.Var *Awaiting Model Update*>,\n",
       "  <gurobi.Var *Awaiting Model Update*>,\n",
       "  <gurobi.Var *Awaiting Model Update*>],\n",
       " [<gurobi.Var *Awaiting Model Update*>,\n",
       "  <gurobi.Var *Awaiting Model Update*>,\n",
       "  <gurobi.Var *Awaiting Model Update*>,\n",
       "  <gurobi.Var *Awaiting Model Update*>],\n",
       " [<gurobi.Var *Awaiting Model Update*>,\n",
       "  <gurobi.Var *Awaiting Model Update*>,\n",
       "  <gurobi.Var *Awaiting Model Update*>,\n",
       "  <gurobi.Var *Awaiting Model Update*>],\n",
       " [<gurobi.Var *Awaiting Model Update*>,\n",
       "  <gurobi.Var *Awaiting Model Update*>,\n",
       "  <gurobi.Var *Awaiting Model Update*>,\n",
       "  <gurobi.Var *Awaiting Model Update*>]]"
      ]
     },
     "execution_count": 11,
     "metadata": {},
     "output_type": "execute_result"
    }
   ],
   "source": [
    "variables"
   ]
  },
  {
   "cell_type": "code",
   "execution_count": 12,
   "metadata": {
    "collapsed": true
   },
   "outputs": [],
   "source": [
    "m.modelSense = GRB.MINIMIZE\n",
    "m.update()"
   ]
  },
  {
   "cell_type": "code",
   "execution_count": 13,
   "metadata": {
    "collapsed": false
   },
   "outputs": [
    {
     "data": {
      "text/plain": [
       "<gurobi.LinExpr: 14.0 (Machine - 1 , Job 1) + 5.0 (Machine - 1 , Job 2) + 8.0 (Machine - 1 , Job 3) + 7.0 (Machine - 1 , Job 4) + 2.0 (Machine - 2 , Job 1) + 12.0 (Machine - 2 , Job 2) + 6.0 (Machine - 2 , Job 3) + 5.0 (Machine - 2 , Job 4) + 7.0 (Machine - 3 , Job 1) + 8.0 (Machine - 3 , Job 2) + 3.0 (Machine - 3 , Job 3) + 9.0 (Machine - 3 , Job 4) + 2.0 (Machine - 4 , Job 1) + 4.0 (Machine - 4 , Job 2) + 6.0 (Machine - 4 , Job 3) + 10.0 (Machine - 4 , Job 4)>"
      ]
     },
     "execution_count": 13,
     "metadata": {},
     "output_type": "execute_result"
    }
   ],
   "source": [
    "m.getObjective()"
   ]
  },
  {
   "cell_type": "code",
   "execution_count": 14,
   "metadata": {
    "collapsed": true
   },
   "outputs": [],
   "source": [
    "for machine in range(NUMBER_OF_MACHINES):\n",
    "    m.addConstr(\n",
    "        quicksum(variables[machine][job] for job in range(NUMBER_OF_JOBS)) == 1, \n",
    "        \"Job requirment for machine %d\" % (machine + 1))"
   ]
  },
  {
   "cell_type": "code",
   "execution_count": 15,
   "metadata": {
    "collapsed": true
   },
   "outputs": [],
   "source": [
    "for job in range(NUMBER_OF_JOBS):\n",
    "    m.addConstr(\n",
    "        quicksum(variables[machine][job] for machine in range(NUMBER_OF_MACHINES)) == 1, \n",
    "        \"Machine requirment for machine %d\" % (job + 1))"
   ]
  },
  {
   "cell_type": "code",
   "execution_count": 16,
   "metadata": {
    "collapsed": false
   },
   "outputs": [
    {
     "name": "stdout",
     "output_type": "stream",
     "text": [
      "Optimize a model with 8 rows, 16 columns and 32 nonzeros\n",
      "Variable types: 0 continuous, 16 integer (16 binary)\n",
      "Coefficient statistics:\n",
      "  Matrix range     [1e+00, 1e+00]\n",
      "  Objective range  [2e+00, 1e+01]\n",
      "  Bounds range     [1e+00, 1e+00]\n",
      "  RHS range        [1e+00, 1e+00]\n",
      "Found heuristic solution: objective 23\n",
      "Presolve time: 0.05s\n",
      "Presolved: 8 rows, 16 columns, 32 nonzeros\n",
      "Variable types: 0 continuous, 16 integer (16 binary)\n",
      "\n",
      "Root relaxation: objective 1.500000e+01, 6 iterations, 0.02 seconds\n",
      "\n",
      "    Nodes    |    Current Node    |     Objective Bounds      |     Work\n",
      " Expl Unexpl |  Obj  Depth IntInf | Incumbent    BestBd   Gap | It/Node Time\n",
      "\n",
      "*    0     0               0      15.0000000   15.00000  0.00%     -    0s\n",
      "\n",
      "Explored 0 nodes (6 simplex iterations) in 0.20 seconds\n",
      "Thread count was 8 (of 8 available processors)\n",
      "\n",
      "Solution count 2: 15 23 \n",
      "Pool objective bound 15\n",
      "\n",
      "Optimal solution found (tolerance 1.00e-04)\n",
      "Best objective 1.500000000000e+01, best bound 1.500000000000e+01, gap 0.0000%\n",
      "(Machine - 1 , Job 1) -0.0\n",
      "(Machine - 1 , Job 2) 1.0\n",
      "(Machine - 1 , Job 3) -0.0\n",
      "(Machine - 1 , Job 4) 0.0\n",
      "(Machine - 2 , Job 1) 0.0\n",
      "(Machine - 2 , Job 2) -0.0\n",
      "(Machine - 2 , Job 3) -0.0\n",
      "(Machine - 2 , Job 4) 1.0\n",
      "(Machine - 3 , Job 1) -0.0\n",
      "(Machine - 3 , Job 2) -0.0\n",
      "(Machine - 3 , Job 3) 1.0\n",
      "(Machine - 3 , Job 4) -0.0\n",
      "(Machine - 4 , Job 1) 1.0\n",
      "(Machine - 4 , Job 2) -0.0\n",
      "(Machine - 4 , Job 3) -0.0\n",
      "(Machine - 4 , Job 4) -0.0\n",
      "15.0\n"
     ]
    }
   ],
   "source": [
    "\n",
    "m.optimize()\n",
    "\n",
    "for v in m.getVars():\n",
    "    print (v.varName, v.x)\n",
    "    \n",
    "\n",
    "print (m.getObjective().getValue())"
   ]
  }
 ],
 "metadata": {
  "kernelspec": {
   "display_name": "Python 3",
   "language": "python",
   "name": "python3"
  },
  "language_info": {
   "codemirror_mode": {
    "name": "ipython",
    "version": 3
   },
   "file_extension": ".py",
   "mimetype": "text/x-python",
   "name": "python",
   "nbconvert_exporter": "python",
   "pygments_lexer": "ipython3",
   "version": "3.5.2"
  }
 },
 "nbformat": 4,
 "nbformat_minor": 2
}
