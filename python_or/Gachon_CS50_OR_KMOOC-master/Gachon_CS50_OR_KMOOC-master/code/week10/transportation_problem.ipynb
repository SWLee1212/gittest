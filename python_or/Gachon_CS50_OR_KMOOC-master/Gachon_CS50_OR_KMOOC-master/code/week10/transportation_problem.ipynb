{
 "cells": [
  {
   "cell_type": "markdown",
   "metadata": {},
   "source": [
    "### Transporation Problem\n",
    "\n",
    "Powerco has three electric power plants that supply the needs of four cities.† Each power plant can supply the following numbers of kilowatt-hours (kwh) of electricity: plant 1—35 million; plant 2—50 million; plant 3—40 million (see Table 1). The peak power demands in these cities, which occur at the same time (2 P.M.), are as follows (in kwh): city 1—45 million; city 2—20 million; city 3—30 million; city 4—30 million. The costs of sending 1 million kwh of electricity from plant to city depend on the distance the electricity must travel. Formulate an LP to minimize the cost of meeting each city’s peak power demand.\n"
   ]
  },
  {
   "cell_type": "markdown",
   "metadata": {},
   "source": [
    "|         | City 1 | City 2 | City 3 | City 4 | Supply |\n",
    "|:--------|:-------|:-------|:-------|:-------|:-------|\n",
    "| Plant 1 | 8      | 6      | 10     |      9  | 35       |\n",
    "| Plant 2 | 9      | 12     | 13     |      5  |   50    |\n",
    "| Plant 3 | 14     | 9      | 16     |      5  |     40  |\n",
    "| Demand  | 45     | 20     | 30     |      30  | 30     |"
   ]
  },
  {
   "cell_type": "code",
   "execution_count": 2,
   "metadata": {
    "collapsed": false
   },
   "outputs": [
    {
     "name": "stdout",
     "output_type": "stream",
     "text": [
      "Optimize a model with 7 rows, 12 columns and 24 nonzeros\n",
      "Coefficient statistics:\n",
      "  Matrix range     [1e+00, 1e+00]\n",
      "  Objective range  [5e+00, 2e+01]\n",
      "  Bounds range     [0e+00, 0e+00]\n",
      "  RHS range        [2e+01, 5e+01]\n",
      "Presolve time: 1.75s\n",
      "Presolved: 7 rows, 12 columns, 24 nonzeros\n",
      "\n",
      "Iteration    Objective       Primal Inf.    Dual Inf.      Time\n",
      "       0    0.0000000e+00   1.250000e+02   0.000000e+00      2s\n",
      "       7    1.0200000e+03   0.000000e+00   0.000000e+00      2s\n",
      "\n",
      "Solved in 7 iterations and 1.78 seconds\n",
      "Optimal objective  1.020000000e+03\n",
      "(node-11) 0.0\n",
      "(node-12) 10.0\n",
      "(node-13) 25.0\n",
      "(node-14) 0.0\n",
      "(node-21) 45.0\n",
      "(node-22) 0.0\n",
      "(node-23) 5.0\n",
      "(node-24) 0.0\n",
      "(node-31) 0.0\n",
      "(node-32) 10.0\n",
      "(node-33) 0.0\n",
      "(node-34) 30.0\n",
      "1020.0\n"
     ]
    }
   ],
   "source": [
    "from gurobipy import *\n",
    "\n",
    "m = Model(\"Transporation Prolem\")\n",
    "\n",
    "NUMBER_OF_PLANTS =  3\n",
    "NUMBER_OF_CITIES = 4\n",
    "\n",
    "\n",
    "cost_matrix = [[8, 6, 10, 9], [9, 12, 13, 7], [14, 9 , 16 ,5]]\n",
    "\n",
    "supply = [35, 50, 40]\n",
    "demand = [45, 20, 30, 30]\n",
    "\n",
    "variables = [ \n",
    "    [m.addVar(vtype=GRB.CONTINUOUS, \n",
    "              obj = cost_matrix[row][column], \n",
    "              name=\"(node-%d%d)\" % (row+1, column+1))\n",
    "     for column in range(NUMBER_OF_CITIES) ] \n",
    "        for row in range(NUMBER_OF_PLANTS)\n",
    "    ]\n",
    "            \n",
    "\n",
    "\n",
    "m.modelSense = GRB.MINIMIZE\n",
    "m.update()\n",
    "    \n",
    "    \n",
    "for plant_number in range(NUMBER_OF_PLANTS):\n",
    "    m.addConstr(\n",
    "        quicksum(variables[plant_number][city_number] for city_number in range(NUMBER_OF_CITIES)) <= supply[plant_number], \n",
    "        \"supply requirment plant - %d\" % (plant_number + 1))\n",
    "\n",
    "for city_number in range(NUMBER_OF_CITIES):\n",
    "    m.addConstr(\n",
    "        quicksum(variables[plant_number][city_number] for plant_number in range(NUMBER_OF_PLANTS)) >= demand[city_number], \n",
    "        \"demand requirment plant - %d\" % (city_number + 1))\n",
    "\n",
    "m.optimize()\n",
    "\n",
    "for v in m.getVars():\n",
    "    print (v.varName, v.x)\n",
    "    \n",
    "\n",
    "print (m.getObjective().getValue())"
   ]
  }
 ],
 "metadata": {
  "kernelspec": {
   "display_name": "Python 3",
   "language": "python",
   "name": "python3"
  },
  "language_info": {
   "codemirror_mode": {
    "name": "ipython",
    "version": 3
   },
   "file_extension": ".py",
   "mimetype": "text/x-python",
   "name": "python",
   "nbconvert_exporter": "python",
   "pygments_lexer": "ipython3",
   "version": "3.5.2"
  }
 },
 "nbformat": 4,
 "nbformat_minor": 2
}
