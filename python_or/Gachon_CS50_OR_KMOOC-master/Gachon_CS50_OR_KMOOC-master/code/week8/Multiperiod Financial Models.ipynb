{
 "cells": [
  {
   "cell_type": "markdown",
   "metadata": {},
   "source": [
    "### Multiperiod Financial Models\n",
    "##### FROM - Operations Research: Applications and Algorithms 4th Edition, p105, Wayne L. Winston \n",
    "\n",
    "Finco Investment Corporation must determine investment strategy for the firm during the next three years. Currently (time 0), \\$100,000 is available for investment. Investments A, B, C, D, and E are available. The cash flow associated with investing \\$1 in each investment is given in Table. \n",
    "\n",
    "For example, \\$1 invested in investment B requires a \\$1 cash outflow at time 1 and returns 50cents at time 2 and $1 at time 3. To ensure that the company’s portfolio is diversified, Finco requires that at most \\$75,000 be placed in any single investment. In addition to investments A-E, Finco can earn interest at 8% per year by keeping uninvested cash in money market funds. Returns from investments may be immediately reinvested. For example, the positive cash flow received from investment C at time 1 may immediately be reinvested in investment B. Finco cannot borrow funds, so the cash available for investment at any time is limited to cash on hand. Formulate an LP that will maximize cash on hand at time 3.\n"
   ]
  },
  {
   "cell_type": "code",
   "execution_count": 5,
   "metadata": {
    "collapsed": false
   },
   "outputs": [
    {
     "name": "stdout",
     "output_type": "stream",
     "text": [
      "1\n",
      "1\n",
      "1\n",
      "Optimize a model with 8 rows, 8 columns and 19 nonzeros\n",
      "Coefficient statistics:\n",
      "  Matrix range     [5e-01, 1e+00]\n",
      "  Objective range  [1e+00, 2e+00]\n",
      "  Bounds range     [0e+00, 0e+00]\n",
      "  RHS range        [8e+04, 1e+05]\n",
      "Presolve removed 5 rows and 0 columns\n",
      "Presolve time: 0.01s\n",
      "Presolved: 3 rows, 8 columns, 14 nonzeros\n",
      "\n",
      "Iteration    Objective       Primal Inf.    Dual Inf.      Time\n",
      "       0    7.2658339e+05   5.587216e+05   0.000000e+00      0s\n",
      "       3    2.1850000e+05   0.000000e+00   0.000000e+00      0s\n",
      "\n",
      "Solved in 3 iterations and 0.01 seconds\n",
      "Optimal objective  2.185000000e+05\n",
      "(cash-A) 60000.0\n",
      "(cash-B) 30000.0\n",
      "(cash-C) 0.0\n",
      "(cash-D) 40000.0\n",
      "(cash-E) 75000.0\n",
      "(cash-S0) 0.0\n",
      "(cash-S1) 0.0\n",
      "(cash-S2) 0.0\n",
      "218500.0\n"
     ]
    }
   ],
   "source": [
    "\n",
    "from gurobipy import *\n",
    "\n",
    "time_period = [\"t1\", \"t2\", \"t3\", \"t4\"]\n",
    "invement_targets = [\"A\", \"B\", \"C\", \"D\", \"E\"]\n",
    "slacks = [\"S0\", \"S1\", \"S2\"]\n",
    "all_variables = invement_targets+slacks\n",
    "\n",
    "m = Model(\"multiperiod_investment\")\n",
    "\n",
    "slacks_interest = [0, 0, 1.08]\n",
    "\n",
    "cash_flow = [\n",
    "    [100000, -1, 0 , -1, -1, 0, -1, 0, 0],\n",
    "    [0, 0.5, -1 , 1.2, 0, 0, 1.08, -1, 0],\n",
    "    [0, 1, 0.5 , 0, 0, -1, 0, 1.08, -1],\n",
    "    [0, 0, 1 , 0, 1.9, 1.5, 0, 0, 1.08]\n",
    "]\n",
    "\n",
    "variables = [1]\n",
    "for i in range(len(all_variables)):\n",
    "    variables.append(\n",
    "        m.addVar(vtype=GRB.CONTINUOUS, obj = cash_flow[3][i+1], name=\"(cash-%s)\" % (all_variables[i])))\n",
    "\n",
    "    \n",
    "m.modelSense = GRB.MAXIMIZE\n",
    "m.update()\n",
    "\n",
    "for time in range(len(cash_flow)-1):\n",
    "    m.addConstr(quicksum(cash_flow[time][i] * variables[i] for i in range(len(cash_flow[time]))) == 0, \n",
    "                \"constraints %s\" % variables[time])\n",
    "\n",
    "for targes_index in range(len(invement_targets)):\n",
    "    m.addConstr(variables[targes_index+1]  <= 75000, \n",
    "                \"totalinvesment regulation %s\" % variables[targes_index])\n",
    "\n",
    "m.optimize()\n",
    "\n",
    "for v in m.getVars():\n",
    "    print (v.varName, v.x)\n",
    "\n",
    "    \n",
    "print (m.getObjective().getValue())"
   ]
  }
 ],
 "metadata": {
  "kernelspec": {
   "display_name": "Python 3",
   "language": "python",
   "name": "python3"
  },
  "language_info": {
   "codemirror_mode": {
    "name": "ipython",
    "version": 3
   },
   "file_extension": ".py",
   "mimetype": "text/x-python",
   "name": "python",
   "nbconvert_exporter": "python",
   "pygments_lexer": "ipython3",
   "version": "3.5.2"
  }
 },
 "nbformat": 4,
 "nbformat_minor": 2
}
