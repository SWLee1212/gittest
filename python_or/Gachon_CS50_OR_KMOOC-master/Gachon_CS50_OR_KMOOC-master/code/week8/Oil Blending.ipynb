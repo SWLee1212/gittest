{
 "cells": [
  {
   "cell_type": "markdown",
   "metadata": {},
   "source": [
    "### Blending Problems\n",
    "##### FROM - Operations Research: Applications and Algorithms 4th Edition, p80, Wayne L. Winston \n",
    "\n",
    "Sunco Oil manufactures three types of gasoline (gas 1, gas 2, gas 3). Each type is produced by blending three types of crude oil (crude 1, crude 2, crude 3). The sales prices per barrel of gasoline are as follows. Sunco can purchase up to 5000 barrels of each type of crude oil.\n",
    "\n",
    "The three types of gasoline differ in their octane rating and sulfur content. The crude oil blends to form gas 1 must have an average octane rating of at least 10 and contain at most 1% sulfur. The crude oil blended to form gas 2 must have an average octane rating of at least 8 and contain at most 2% sulfur. The crude oil blended to form gas 3 must have an octane rating of at least 6 and contain at most 1% sulfur. The octane rating and the sulfur content of the three types of oil are. It costs $4 to transform one barrel of gasoline, and Sunco's refinery can produce up to 14,000 barrels of gasoline daily.\n",
    "\n",
    "Sunco’s customers require the following amounts of each gasoline: gas 1- 3000 barrels/day, gas 2- 2000 barrels/day, and gas 3- 1000 barrels/day. The company considers it an obligation to meet these demands. Sunco also has the option of advertising to stimulate demand for its products. Each dollar spent daily in advertising a particular type of gas increases the daily demand for that type of gas by 10 barrels. For example, if Sunco decides to spend $20 daily in advertising gas 2, the daily demand for gas 2 will increase by 20(10) = 200 barrels. Formulate an LP that will enable Sunco to maximize daily profits (profits= revenue – costs).\n"
   ]
  },
  {
   "cell_type": "markdown",
   "metadata": {},
   "source": [
    "| Gas | Sales Price per Barrel | Crude | Purchase Price per Barrel |\n",
    "|:----|:-----------------------|:------|:--------------------------|\n",
    "| 1   | 70                     | 1     | 45                        |\n",
    "| 2   | 60                     | 2     | 34                        |\n",
    "| 3   | 50                     | 3     | 25                        |\n",
    "\n",
    "| Crude | Octane Rating | Sulfur Content(%) |\n",
    "|:------|:--------------|:------------------|\n",
    "| 1     | 12            | 0.5               |\n",
    "| 2     | 6             | 2.0               |\n",
    "| 3     | 7             | 3.0               |\n"
   ]
  },
  {
   "cell_type": "code",
   "execution_count": 1,
   "metadata": {
    "collapsed": false
   },
   "outputs": [],
   "source": [
    "from gurobipy import *\n",
    "\n",
    "\n",
    "gas_salses  = [70, 60, 50]\n",
    "crude_purchases  = [45, 34, 25]\n",
    "\n",
    "gas_constrations = [3000, 2000, 1000]\n",
    "crude_constrations  = 5000\n",
    "\n",
    "\n",
    "crude_octane_raing = [12, 6, 7]\n",
    "\n",
    "\n",
    "octane_level_constraints = [\n",
    "    [2, -4, -2],\n",
    "    [0, 4, -2],\n",
    "    [6, 0, 2]\n",
    "]\n",
    "\n",
    "# C11\t-0.005X11+0.01X21+0.02X31<=0\n",
    "# C12\t-0.015X12+0.01X32<=0\n",
    "# C13\t-0.005X13+0.01X23+0.02X33<=0\n",
    "\n",
    "\n",
    "\n",
    "x_variables_names = [ [\"x\"+str(i)+str(j) for i in range(3)] for j in range(3)]\n",
    "ad_variables_names = [\"a\"+str(i) for i in range(3)]"
   ]
  },
  {
   "cell_type": "code",
   "execution_count": 74,
   "metadata": {
    "collapsed": false
   },
   "outputs": [
    {
     "data": {
      "text/plain": [
       "<gurobi.LinExpr: 21.0 (x00) + 11.0 (x10) + (x20) + 32.0 (x01) + 22.0 (x11) + 12.0 (x21) + 41.0 (x02) + 31.0 (x12) + 21.0 (x22) + -1.0 (a0) + -1.0 (a1) + -1.0 (a2)>"
      ]
     },
     "execution_count": 74,
     "metadata": {},
     "output_type": "execute_result"
    }
   ],
   "source": [
    "# Model\n",
    "m = Model(\"project_selection\")\n",
    "\n",
    "x_variables = []\n",
    "ad_variables = []\n",
    "\n",
    "for i in range(3):\n",
    "    x_variables.append([])\n",
    "    for j in range(3):\n",
    "        x_variables[i].append(\n",
    "            m.addVar(\n",
    "            vtype=GRB.CONTINUOUS,\n",
    "            obj = gas_salses[j] - crude_purchases[i] - 4,\n",
    "            name=\"(%s)\" % (x_variables_names[i][j])))\n",
    "\n",
    "for j in range(3):\n",
    "    ad_variables.append(\n",
    "            m.addVar(\n",
    "            vtype=GRB.CONTINUOUS,\n",
    "            obj = -1,\n",
    "            name=\"(%s)\" % (ad_variables_names[j])))\n",
    "\n",
    "m.modelSense = GRB.MAXIMIZE\n",
    "m.update()\n",
    "\n",
    "m.getObjective()"
   ]
  },
  {
   "cell_type": "code",
   "execution_count": 75,
   "metadata": {
    "collapsed": false
   },
   "outputs": [
    {
     "data": {
      "text/plain": [
       "[<gurobi.Constr Gas 0 requirment >,\n",
       " <gurobi.Constr Gas 1 requirment >,\n",
       " <gurobi.Constr Gas 2 requirment >]"
      ]
     },
     "execution_count": 75,
     "metadata": {},
     "output_type": "execute_result"
    }
   ],
   "source": [
    "# Gas Constrains\n",
    "for gas in range(3):\n",
    "    constraions = [x_variables[crude][gas] for crude in range(3)]\n",
    "    constraions.append(-10 * ad_variables[gas])\n",
    "    m.addConstr(\n",
    "        quicksum(constraions\n",
    "            ) == gas_constrations[gas],\n",
    "        \"Gas %d requirment \" % gas)\n",
    "m.update()\n",
    "m.getConstrs()"
   ]
  },
  {
   "cell_type": "code",
   "execution_count": 76,
   "metadata": {
    "collapsed": true
   },
   "outputs": [],
   "source": [
    "for crude in range(3):\n",
    "    constraions = [x_variables[crude][gas] for gas in range(3)]\n",
    "    m.addConstr(\n",
    "        quicksum(constraions\n",
    "            ) <= crude_constrations,\n",
    "        \"Crude Oil %d requirment \" % crude)\n",
    "m.update()\n",
    "m.getConstrs()"
   ]
  },
  {
   "cell_type": "code",
   "execution_count": 78,
   "metadata": {
    "collapsed": false
   },
   "outputs": [
    {
     "data": {
      "text/plain": [
       "[<gurobi.Constr Gas 0 requirment >,\n",
       " <gurobi.Constr Gas 1 requirment >,\n",
       " <gurobi.Constr Gas 2 requirment >,\n",
       " <gurobi.Constr Crude Oil 0 requirment >,\n",
       " <gurobi.Constr Crude Oil 1 requirment >,\n",
       " <gurobi.Constr Crude Oil 2 requirment >,\n",
       " <gurobi.Constr reginery capacity limit >]"
      ]
     },
     "execution_count": 78,
     "metadata": {},
     "output_type": "execute_result"
    }
   ],
   "source": [
    "# Constraint for refinery capacity limit:\n",
    "constraions = [x_variables[crude][gas] for crude in range(3) for gas in range(3)]\n",
    "m.addConstr(\n",
    "    quicksum(constraions) == 14000, \"reginery capacity limit \" )\n",
    "\n",
    "m.update()\n",
    "m.getConstrs()"
   ]
  },
  {
   "cell_type": "code",
   "execution_count": 79,
   "metadata": {
    "collapsed": false
   },
   "outputs": [
    {
     "data": {
      "text/plain": [
       "[<gurobi.Constr Gas 0 requirment >,\n",
       " <gurobi.Constr Gas 1 requirment >,\n",
       " <gurobi.Constr Gas 2 requirment >,\n",
       " <gurobi.Constr Crude Oil 0 requirment >,\n",
       " <gurobi.Constr Crude Oil 1 requirment >,\n",
       " <gurobi.Constr Crude Oil 2 requirment >,\n",
       " <gurobi.Constr reginery capacity limit >,\n",
       " <gurobi.Constr Octane level in Gas  0 requirment >,\n",
       " <gurobi.Constr Octane level in Gas  1 requirment >,\n",
       " <gurobi.Constr Octane level in Gas  2 requirment >]"
      ]
     },
     "execution_count": 79,
     "metadata": {},
     "output_type": "execute_result"
    }
   ],
   "source": [
    "for crude in range(3):\n",
    "    constrains = [octane_level_constraints[crude][gas]*x_variables[crude][gas] for gas in range(3)]\n",
    "    m.addConstr(\n",
    "        quicksum(constraions\n",
    "            ) >= 0,\n",
    "        \"Octane level in Gas  %d requirment \" % crude)\n",
    "    \n",
    "m.update()\n",
    "m.getConstrs()"
   ]
  },
  {
   "cell_type": "code",
   "execution_count": 80,
   "metadata": {
    "collapsed": false
   },
   "outputs": [
    {
     "name": "stdout",
     "output_type": "stream",
     "text": [
      "Optimize a model with 13 rows, 12 columns and 63 nonzeros\n",
      "Coefficient statistics:\n",
      "  Matrix range     [5e-03, 1e+01]\n",
      "  Objective range  [1e+00, 4e+01]\n",
      "  Bounds range     [0e+00, 0e+00]\n",
      "  RHS range        [1e+03, 1e+04]\n",
      "Presolve removed 6 rows and 3 columns\n",
      "Presolve time: 0.01s\n",
      "Presolved: 7 rows, 9 columns, 27 nonzeros\n",
      "\n",
      "Iteration    Objective       Primal Inf.    Dual Inf.      Time\n",
      "       0    5.3320000e+05   5.625000e+02   0.000000e+00      0s\n",
      "       4    4.0820000e+05   0.000000e+00   0.000000e+00      0s\n",
      "\n",
      "Solved in 4 iterations and 0.03 seconds\n",
      "Optimal objective  4.082000000e+05\n"
     ]
    }
   ],
   "source": [
    "sulfur_content = [0.005, 0.02, 0.03]\n",
    "sulfur_at_most = [0.01, 0.02, 0.01]\n",
    "\n",
    "for gas in range(3):\n",
    "    constrains_lhs = [sulfur_content[crude]*x_variables[crude][gas] for crude in range(3)]\n",
    "#     print(constrains_lhs)\n",
    "    constrains_rhs =[sulfur_at_most[crude]*x_variables[crude][gas] for crude in range(3)]\n",
    "#     print(constrains_rhs)\n",
    "    m.addConstr(\n",
    "        quicksum(constrains_lhs) >= quicksum(constrains_rhs),\n",
    "        \"Sulfur content in Gas  %d requirment \" % gas)\n",
    "    \n",
    "    \n",
    "m.update()\n",
    "m.getConstrs()\n",
    "m.optimize()"
   ]
  },
  {
   "cell_type": "code",
   "execution_count": 84,
   "metadata": {
    "collapsed": false
   },
   "outputs": [
    {
     "name": "stdout",
     "output_type": "stream",
     "text": [
      "(x00) 4000.0\n",
      "(x10) 0.0\n",
      "(x20) 0.0\n",
      "(x01) 2000.0\n",
      "(x11) 2000.0\n",
      "(x21) 1000.0\n",
      "(x02) 5000.0\n",
      "(x12) 0.0\n",
      "(x22) 0.0\n",
      "(a0) 800.0\n",
      "(a1) 0.0\n",
      "(a2) 0.0\n",
      "408200.0\n"
     ]
    }
   ],
   "source": [
    "\n",
    "for v in m.getVars():\n",
    "    print (v.varName, v.x)\n",
    "\n",
    "    \n",
    "print (m.getObjective().getValue())"
   ]
  },
  {
   "cell_type": "code",
   "execution_count": null,
   "metadata": {
    "collapsed": true
   },
   "outputs": [],
   "source": []
  }
 ],
 "metadata": {
  "kernelspec": {
   "display_name": "Python 3",
   "language": "python",
   "name": "python3"
  },
  "language_info": {
   "codemirror_mode": {
    "name": "ipython",
    "version": 3
   },
   "file_extension": ".py",
   "mimetype": "text/x-python",
   "name": "python",
   "nbconvert_exporter": "python",
   "pygments_lexer": "ipython3",
   "version": "3.5.2"
  }
 },
 "nbformat": 4,
 "nbformat_minor": 0
}
