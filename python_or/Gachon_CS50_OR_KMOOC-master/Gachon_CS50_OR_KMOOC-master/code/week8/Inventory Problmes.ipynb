{
 "cells": [
  {
   "cell_type": "markdown",
   "metadata": {},
   "source": [
    "### Sailco Corporation Inventory Problmes\n",
    "##### FROM - Operations Research: Applications and Algorithms 4th Edition, p100, Wayne L. Winston \n",
    "\n",
    "Sailco Corporation must determine how many sailboats should be produced ruing each of the next four quarter (one quarter = three months). The demand during each of the next four quarters is as follows; first quarter, 40 sailboats: second quarter, 60 sailboats; third quarter, 75 sailboats; fourth quarter, 25 sailboats. Sailco must meet demands on time. At the beginning of the first quarter, Sailco has an inventory of 10 sailboats. At the beginning of each quarter, Sailco must decide how many sailboats should be produced during that quarter. For simplicity, we assume that sailboats manufactured during a quarter can be used to meet demand for that quarter. During each quarter, Sailco can produce up to 40 sailboats with regular-time labor at a total cost of \\$400 per sailboat. By having employees work overtime during a quarter, Sailco can produce additional sailboats with overtime labor at total cost of \\$450 per sailboat. \n",
    "\tAt the end of each quarter (after production has occurred and the current quarter's demand has been satisfied), a carrying or holding cost of \\$20 per sailboat is incurred. Use linear programming to determine a production schedule to minimize the sum of production and inventory costs during the next four quarters. \n"
   ]
  },
  {
   "cell_type": "code",
   "execution_count": 2,
   "metadata": {
    "collapsed": true
   },
   "outputs": [],
   "source": [
    "from gurobipy import *"
   ]
  },
  {
   "cell_type": "code",
   "execution_count": 3,
   "metadata": {
    "collapsed": false
   },
   "outputs": [
    {
     "name": "stdout",
     "output_type": "stream",
     "text": [
      "Optimize a model with 8 rows, 12 columns and 19 nonzeros\n",
      "Coefficient statistics:\n",
      "  Matrix range     [1e+00, 1e+00]\n",
      "  Objective range  [2e+01, 5e+02]\n",
      "  Bounds range     [0e+00, 0e+00]\n",
      "  RHS range        [3e+01, 8e+01]\n",
      "Presolve removed 4 rows and 0 columns\n",
      "Presolve time: 0.01s\n",
      "Presolved: 4 rows, 12 columns, 15 nonzeros\n",
      "\n",
      "Iteration    Objective       Primal Inf.    Dual Inf.      Time\n",
      "       0    0.0000000e+00   1.900000e+02   0.000000e+00      0s\n",
      "       6    7.8450000e+04   0.000000e+00   0.000000e+00      0s\n",
      "\n",
      "Solved in 6 iterations and 0.02 seconds\n",
      "Optimal objective  7.845000000e+04\n",
      "(x-0) 40.0\n",
      "(x-1) 40.0\n",
      "(x-2) 40.0\n",
      "(x-3) 25.0\n",
      "(y-0) 0.0\n",
      "(y-1) 10.0\n",
      "(y-2) 35.0\n",
      "(y-3) 0.0\n",
      "(overhead-0) 10.0\n",
      "(overhead-1) 0.0\n",
      "(overhead-2) 0.0\n",
      "(overhead-3) 0.0\n",
      "78450.0\n"
     ]
    }
   ],
   "source": [
    "time_period = [\"q1\", \"q2\", \"q3\", \"q4\"]\n",
    "demand = [40,60,75,25]\n",
    "m = Model(\"sailco_inventory\")\n",
    "\n",
    "variables = []\n",
    "for i in range(len(time_period)):\n",
    "    variables.append([])\n",
    "    variables[0].append(\n",
    "        m.addVar(vtype=GRB.CONTINUOUS, obj = 400, name=\"(x-%d)\" % (i)))\n",
    "\n",
    "for i in range(len(time_period)):\n",
    "    variables.append([])\n",
    "    variables[1].append(\n",
    "        m.addVar(vtype=GRB.CONTINUOUS, obj = 450, name=\"(y-%d)\" % (i)))\n",
    "\n",
    "variables.append([])\n",
    "variables[2].append(10)\n",
    "for i in range(len(time_period)):\n",
    "    variables.append([])\n",
    "    variables[2].append(\n",
    "        m.addVar(vtype=GRB.CONTINUOUS,obj = 20, name=\"(overhead-%d)\" % (i)))\n",
    "    \n",
    "m.modelSense = GRB.MINIMIZE\n",
    "m.update()\n",
    "\n",
    "\n",
    "for time in range(len(time_period)):\n",
    "    m.addConstr(variables[0][time] <= 40, \"supply regulation %s\" % variables[0][time])\n",
    "\n",
    "for time in range(len(time_period)):\n",
    "    m.addConstr(variables[2][time] - variables[2][time+1] + variables[0][time] + variables[1][time] - demand[time] == 0, \n",
    "                \"inventory regulation %s\" % variables[0][time])\n",
    "\n",
    "m.optimize()\n",
    "\n",
    "for v in m.getVars():\n",
    "    print (v.varName, v.x)\n",
    "\n",
    "    \n",
    "print (m.getObjective().getValue())"
   ]
  }
 ],
 "metadata": {
  "kernelspec": {
   "display_name": "Python 3",
   "language": "python",
   "name": "python3"
  },
  "language_info": {
   "codemirror_mode": {
    "name": "ipython",
    "version": 3
   },
   "file_extension": ".py",
   "mimetype": "text/x-python",
   "name": "python",
   "nbconvert_exporter": "python",
   "pygments_lexer": "ipython3",
   "version": "3.5.2"
  }
 },
 "nbformat": 4,
 "nbformat_minor": 0
}
