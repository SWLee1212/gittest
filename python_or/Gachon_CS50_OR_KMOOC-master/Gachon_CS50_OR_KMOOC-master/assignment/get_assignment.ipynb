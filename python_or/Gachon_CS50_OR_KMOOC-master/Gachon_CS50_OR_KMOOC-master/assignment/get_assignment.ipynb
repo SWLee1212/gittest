{
 "cells": [
  {
   "cell_type": "code",
   "execution_count": 3,
   "metadata": {
    "collapsed": false
   },
   "outputs": [
    {
     "name": "stdout",
     "output_type": "stream",
     "text": [
      "<class 'str'>\n",
      "nb_arithmetic_functions.ipynb file is created for your nb_test assignment \n",
      "Thank you for using the program. Enjoy Your Assignment - From TeamLab \n"
     ]
    }
   ],
   "source": [
    "import gachon_autograder_client as g_autograder\n",
    "\n",
    "EMAIL = \"#TESTYOURMAIL\"\n",
    "PASSWORD = \"#YOURPASSWORD\"\n",
    "ASSIGNMENT_NAME = \"nb_test\"\n",
    "\n",
    "g_autograder.get_assignment(EMAIL, PASSWORD, ASSIGNMENT_NAME)"
   ]
  }
 ],
 "metadata": {
  "kernelspec": {
   "display_name": "Python 3",
   "language": "python",
   "name": "python3"
  },
  "language_info": {
   "codemirror_mode": {
    "name": "ipython",
    "version": 3.0
   },
   "file_extension": ".py",
   "mimetype": "text/x-python",
   "name": "python",
   "nbconvert_exporter": "python",
   "pygments_lexer": "ipython3",
   "version": "3.5.2"
  }
 },
 "nbformat": 4,
 "nbformat_minor": 0
}